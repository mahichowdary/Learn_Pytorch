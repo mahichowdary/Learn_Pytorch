{
 "cells": [
  {
   "cell_type": "markdown",
   "metadata": {
    "colab_type": "text",
    "id": "R8MJTGhuGhag"
   },
   "source": [
    "<img src = 'https://lh3.googleusercontent.com/-Q-N5-uawiEs/Xc1J1leI9wI/AAAAAAAAkcE/x63Of_HMkTQIeD5KFs_gIFadSgvvIWSOACK8BGAsYHg/s0/2019-11-14.png'/>"
   ]
  },
  {
   "cell_type": "markdown",
   "metadata": {
    "colab_type": "text",
    "id": "cYKJx0_RGhal"
   },
   "source": [
    "1. It’s a Python-based scientific computing package targeted at two sets of audiences.\n",
    "2. A replacement for NumPy to use the power of GPUs.\n",
    "3. A deep learning research platform that provides maximum flexibility and speed.\n",
    "4. PyTorch is an open source machine learning library based on the Torch library, used for applications such as computer vision and natural language processing. \n",
    "5. It is primarily developed by Facebook's artificial intelligence research group. It is free and open-source software released under the Modified BSD license.\n"
   ]
  },
  {
   "cell_type": "markdown",
   "metadata": {},
   "source": [
    "### History\n",
    "Facebook operated both PyTorch and Convolutional Architecture for Fast Feature Embedding (Caffe2), but models defined by the two frameworks were mutually incompatible. The Open Neural Network Exchange (ONNX) project was created by Facebook and Microsoft in September 2017 for converting models between frameworks. Caffe2 was merged into PyTorch at the end of March 2018."
   ]
  },
  {
   "cell_type": "markdown",
   "metadata": {},
   "source": [
    "#### PyTorch vs. Tensorflow\n",
    "|Parameters|PyTorch|Tensorflow|\n",
    "|-----------|-------|----------|\n",
    "|Model Definition|The model is defined in a subclass and offers easy to use package|The model is defined with many, and you need to understand the syntax|\n",
    "|GPU Support|Yes|Yes|\n",
    "|Graph Type|Dynamic|Static|\n",
    "|Tools|No visualization tool|You can use Tensorboard visualization tool|\n",
    "|Community|The community still growing|Large active communities|"
   ]
  },
  {
   "cell_type": "markdown",
   "metadata": {
    "colab_type": "text",
    "id": "qBFnHKyGGhaq"
   },
   "source": [
    "### Getting Started Tensors"
   ]
  },
  {
   "cell_type": "markdown",
   "metadata": {
    "colab_type": "text",
    "id": "Z_TGugyHGhas"
   },
   "source": [
    "Tensors are similar to NumPy’s ndarrays, with the addition being that Tensors can also be used on a GPU to accelerate computing.\n",
    "\n"
   ]
  },
  {
   "cell_type": "code",
   "execution_count": 6,
   "metadata": {
    "colab": {},
    "colab_type": "code",
    "id": "vwLrVxQTGhau"
   },
   "outputs": [],
   "source": [
    "import torch as t"
   ]
  },
  {
   "cell_type": "code",
   "execution_count": 8,
   "metadata": {},
   "outputs": [
    {
     "data": {
      "text/plain": [
       "'1.2.0+cpu'"
      ]
     },
     "execution_count": 8,
     "metadata": {},
     "output_type": "execute_result"
    }
   ],
   "source": [
    "t.__version__"
   ]
  },
  {
   "cell_type": "code",
   "execution_count": 22,
   "metadata": {},
   "outputs": [
    {
     "data": {
      "text/plain": [
       "tensor([[ 5, 10],\n",
       "        [20, 60]])"
      ]
     },
     "execution_count": 22,
     "metadata": {},
     "output_type": "execute_result"
    }
   ],
   "source": [
    "a = t.tensor([[5,10],[20,60]])\n",
    "a"
   ]
  },
  {
   "cell_type": "code",
   "execution_count": 28,
   "metadata": {},
   "outputs": [
    {
     "data": {
      "text/plain": [
       "tensor([1, 2, 3])"
      ]
     },
     "execution_count": 28,
     "metadata": {},
     "output_type": "execute_result"
    }
   ],
   "source": [
    "t.abs(t.tensor([-1, -2, 3]))"
   ]
  },
  {
   "cell_type": "code",
   "execution_count": 32,
   "metadata": {},
   "outputs": [
    {
     "data": {
      "text/plain": [
       "tensor([0.4812, 0.8388, 2.7008, 1.2695])"
      ]
     },
     "execution_count": 32,
     "metadata": {},
     "output_type": "execute_result"
    }
   ],
   "source": [
    "a = t.randn(4)\n",
    "t.acos(a)"
   ]
  },
  {
   "cell_type": "code",
   "execution_count": 34,
   "metadata": {},
   "outputs": [
    {
     "data": {
      "text/plain": [
       "tensor([1.0687, 0.5756,    nan,    nan])"
      ]
     },
     "execution_count": 34,
     "metadata": {},
     "output_type": "execute_result"
    }
   ],
   "source": [
    "t.acos_(a)"
   ]
  },
  {
   "cell_type": "code",
   "execution_count": 40,
   "metadata": {},
   "outputs": [
    {
     "data": {
      "text/plain": [
       "tensor([21.1561, 19.9266, 19.5992, 21.2438])"
      ]
     },
     "execution_count": 40,
     "metadata": {},
     "output_type": "execute_result"
    }
   ],
   "source": [
    "a = t.randn(4)\n",
    "t.add(a,20)"
   ]
  },
  {
   "cell_type": "code",
   "execution_count": 44,
   "metadata": {},
   "outputs": [],
   "source": [
    "M = t.randn(3, 5)\n",
    "batch1 = t.randn(10, 3, 4)\n",
    "batch2 = t.randn(10, 4, 5)"
   ]
  },
  {
   "cell_type": "code",
   "execution_count": 46,
   "metadata": {},
   "outputs": [
    {
     "data": {
      "text/plain": [
       "tensor([[-12.8302,  -2.7281,  -8.6240,  -1.8244,  -5.5802],\n",
       "        [  0.9690,  -7.3421, -16.0144,   6.2360,  10.1697],\n",
       "        [  1.2799,  -6.8116,   4.4409,  -9.7353,  -7.3442]])"
      ]
     },
     "execution_count": 46,
     "metadata": {},
     "output_type": "execute_result"
    }
   ],
   "source": [
    "t.addbmm(M, batch1, batch2)"
   ]
  },
  {
   "cell_type": "code",
   "execution_count": 47,
   "metadata": {
    "colab": {},
    "colab_type": "code",
    "id": "FsZj86FQGhaz",
    "outputId": "a2af2944-e772-4d2d-8ce0-f5557e03511d"
   },
   "outputs": [
    {
     "data": {
      "text/plain": [
       "tensor([[1.0194e-38, 8.4490e-39, 1.0469e-38],\n",
       "        [9.3674e-39, 9.9184e-39, 8.7245e-39],\n",
       "        [9.2755e-39, 8.9082e-39, 9.9184e-39],\n",
       "        [8.4490e-39, 9.6429e-39, 1.0653e-38],\n",
       "        [1.0469e-38, 4.2246e-39, 1.0378e-38]])"
      ]
     },
     "execution_count": 47,
     "metadata": {},
     "output_type": "execute_result"
    }
   ],
   "source": [
    "# construct a 5x3 matrix\n",
    "a=t.empty(5,3)\n",
    "a"
   ]
  },
  {
   "cell_type": "code",
   "execution_count": 48,
   "metadata": {
    "colab": {},
    "colab_type": "code",
    "id": "mDwpqepKGha4",
    "outputId": "6bc17899-ae8c-4350-a3a5-200edeff9f1b"
   },
   "outputs": [
    {
     "data": {
      "text/plain": [
       "tensor([[9.7038e-01, 2.0289e-01, 8.6071e-01],\n",
       "        [7.6729e-01, 3.2838e-01, 4.8190e-04],\n",
       "        [7.4028e-02, 7.9947e-01, 6.2426e-01],\n",
       "        [2.1822e-01, 6.0415e-01, 1.1802e-01],\n",
       "        [2.0336e-01, 9.8735e-01, 1.5378e-01]])"
      ]
     },
     "execution_count": 48,
     "metadata": {},
     "output_type": "execute_result"
    }
   ],
   "source": [
    "# Random no matrix\n",
    "b=t.rand(5,3)\n",
    "b"
   ]
  },
  {
   "cell_type": "code",
   "execution_count": 49,
   "metadata": {
    "colab": {},
    "colab_type": "code",
    "id": "8ruU2DdrGha8",
    "outputId": "cc42e57d-0fb8-4347-c328-95e8cfb5e630"
   },
   "outputs": [
    {
     "data": {
      "text/plain": [
       "tensor([[-0.3343,  1.4613,  0.3591],\n",
       "        [-0.7465,  1.1979, -2.0927],\n",
       "        [-0.0818,  0.4312,  1.2663],\n",
       "        [ 0.6762,  0.8394, -0.7313],\n",
       "        [-0.4028, -0.4528, -0.6683]])"
      ]
     },
     "execution_count": 49,
     "metadata": {},
     "output_type": "execute_result"
    }
   ],
   "source": [
    "c=t.randn(5,3)\n",
    "c"
   ]
  },
  {
   "cell_type": "code",
   "execution_count": 50,
   "metadata": {
    "colab": {},
    "colab_type": "code",
    "id": "ItLeJph4GhbA",
    "outputId": "9a6eb446-ce3f-4acc-be0f-0566d74c6b22"
   },
   "outputs": [
    {
     "ename": "TypeError",
     "evalue": "'module' object is not callable",
     "output_type": "error",
     "traceback": [
      "\u001b[1;31m---------------------------------------------------------------------------\u001b[0m",
      "\u001b[1;31mTypeError\u001b[0m                                 Traceback (most recent call last)",
      "\u001b[1;32m<ipython-input-50-4232b2f9cb36>\u001b[0m in \u001b[0;36m<module>\u001b[1;34m\u001b[0m\n\u001b[1;32m----> 1\u001b[1;33m \u001b[0md\u001b[0m\u001b[1;33m=\u001b[0m\u001b[0mt\u001b[0m\u001b[1;33m.\u001b[0m\u001b[0mrandom\u001b[0m\u001b[1;33m(\u001b[0m\u001b[1;36m5\u001b[0m\u001b[1;33m,\u001b[0m\u001b[1;36m3\u001b[0m\u001b[1;33m)\u001b[0m   \u001b[1;31m# random not work in pytorch\u001b[0m\u001b[1;33m\u001b[0m\u001b[1;33m\u001b[0m\u001b[0m\n\u001b[0m",
      "\u001b[1;31mTypeError\u001b[0m: 'module' object is not callable"
     ]
    }
   ],
   "source": [
    "d=t.random(5,3)   # random not work in pytorch"
   ]
  },
  {
   "cell_type": "code",
   "execution_count": 5,
   "metadata": {
    "colab": {},
    "colab_type": "code",
    "id": "bZbRrjKaGhbF"
   },
   "outputs": [
    {
     "data": {
      "text/plain": [
       "tensor([[0.1356, 0.9481, 0.2069],\n",
       "        [0.9800, 0.0709, 0.2593],\n",
       "        [0.2580, 0.8148, 0.4766],\n",
       "        [0.0269, 0.9110, 0.0294],\n",
       "        [0.0174, 0.0119, 0.9145]])"
      ]
     },
     "execution_count": 5,
     "metadata": {},
     "output_type": "execute_result"
    }
   ],
   "source": [
    "t.rand(5,3)"
   ]
  },
  {
   "cell_type": "code",
   "execution_count": 51,
   "metadata": {},
   "outputs": [
    {
     "data": {
      "text/plain": [
       "<module 'torch.__config__' from 'c:\\\\users\\\\reddy\\\\appdata\\\\local\\\\programs\\\\python\\\\python36\\\\lib\\\\site-packages\\\\torch\\\\__config__.py'>"
      ]
     },
     "execution_count": 51,
     "metadata": {},
     "output_type": "execute_result"
    }
   ],
   "source": [
    "t.__config__"
   ]
  },
  {
   "cell_type": "markdown",
   "metadata": {
    "colab_type": "text",
    "id": "kFSaAjO9GhbK"
   },
   "source": [
    "Construct a matrix filled zeros and of dtype long:\n"
   ]
  },
  {
   "cell_type": "code",
   "execution_count": 52,
   "metadata": {
    "colab": {
     "base_uri": "https://localhost:8080/",
     "height": 34
    },
    "colab_type": "code",
    "executionInfo": {
     "elapsed": 957,
     "status": "ok",
     "timestamp": 1572614145210,
     "user": {
      "displayName": "anil patidar",
      "photoUrl": "https://lh3.googleusercontent.com/a-/AAuE7mBOpNM26lFln0sQCl4yOtCwHeImpsg3tBaiaNYFrkw=s64",
      "userId": "09103336182194663163"
     },
     "user_tz": -330
    },
    "id": "ax6KFxYnGhbL",
    "outputId": "5d882a30-465c-478d-e055-ce5bc6549e9b"
   },
   "outputs": [
    {
     "data": {
      "text/plain": [
       "tensor([0., 0., 0., 0., 0., 0., 0., 0., 0., 0.])"
      ]
     },
     "execution_count": 52,
     "metadata": {},
     "output_type": "execute_result"
    }
   ],
   "source": [
    "a=t.zeros(10)\n",
    "a"
   ]
  },
  {
   "cell_type": "code",
   "execution_count": 53,
   "metadata": {
    "colab": {},
    "colab_type": "code",
    "id": "m87LElxYGhbP",
    "outputId": "bdf723fb-947c-4c5b-f570-76c8047bf669"
   },
   "outputs": [
    {
     "data": {
      "text/plain": [
       "tensor([[0, 0, 0],\n",
       "        [0, 0, 0],\n",
       "        [0, 0, 0],\n",
       "        [0, 0, 0],\n",
       "        [0, 0, 0]])"
      ]
     },
     "execution_count": 53,
     "metadata": {},
     "output_type": "execute_result"
    }
   ],
   "source": [
    "b=t.zeros(5,3,dtype=t.long)\n",
    "b"
   ]
  },
  {
   "cell_type": "markdown",
   "metadata": {
    "colab_type": "text",
    "id": "abEwvi3nGhbY"
   },
   "source": [
    "#### Construct a tensor directly from data:"
   ]
  },
  {
   "cell_type": "code",
   "execution_count": null,
   "metadata": {
    "colab": {},
    "colab_type": "code",
    "id": "YmJyoUxoGhbZ",
    "outputId": "001c6379-4271-4f39-c34c-99bb451c9bd5"
   },
   "outputs": [
    {
     "data": {
      "text/plain": [
       "tensor(10)"
      ]
     },
     "execution_count": 18,
     "metadata": {
      "tags": []
     },
     "output_type": "execute_result"
    }
   ],
   "source": [
    "a=t.tensor(10)\n",
    "a"
   ]
  },
  {
   "cell_type": "code",
   "execution_count": null,
   "metadata": {
    "colab": {},
    "colab_type": "code",
    "id": "k5D6ZRxMGhbd",
    "outputId": "015d069e-2a29-4773-db62-07d5e22db54f"
   },
   "outputs": [
    {
     "data": {
      "text/plain": [
       "tensor([5.5000, 3.0000])"
      ]
     },
     "execution_count": 20,
     "metadata": {
      "tags": []
     },
     "output_type": "execute_result"
    }
   ],
   "source": [
    "b=t.tensor([5.5,3])\n",
    "b"
   ]
  },
  {
   "cell_type": "code",
   "execution_count": null,
   "metadata": {
    "colab": {},
    "colab_type": "code",
    "id": "kaBrpUgwGhbj",
    "outputId": "20dba393-8067-4385-e1c5-6d95b6338281"
   },
   "outputs": [
    {
     "data": {
      "text/plain": [
       "tensor([0, 1, 2, 3, 4, 5, 6, 7, 8, 9])"
      ]
     },
     "execution_count": 21,
     "metadata": {
      "tags": []
     },
     "output_type": "execute_result"
    }
   ],
   "source": [
    "b=t.arange(10)\n",
    "b"
   ]
  },
  {
   "cell_type": "markdown",
   "metadata": {
    "colab_type": "text",
    "id": "8PpxU2RDGhbn"
   },
   "source": [
    "create a tensor based on an existing tensor. These methods will reuse properties of the input tensor, e.g. dtype, unless new values are provided by user\n"
   ]
  },
  {
   "cell_type": "markdown",
   "metadata": {
    "colab_type": "text",
    "id": "oSwzYFjFGhbo"
   },
   "source": [
    "## new_"
   ]
  },
  {
   "cell_type": "code",
   "execution_count": null,
   "metadata": {
    "colab": {},
    "colab_type": "code",
    "id": "i2loe2QCGhbp",
    "outputId": "fe61418f-b435-4292-d985-abffa7e5cf7b"
   },
   "outputs": [
    {
     "data": {
      "text/plain": [
       "tensor([[1., 1., 1.],\n",
       "        [1., 1., 1.],\n",
       "        [1., 1., 1.],\n",
       "        [1., 1., 1.],\n",
       "        [1., 1., 1.]], dtype=torch.float64)"
      ]
     },
     "execution_count": 67,
     "metadata": {
      "tags": []
     },
     "output_type": "execute_result"
    }
   ],
   "source": [
    "a=a.new_ones(5,3,dtype=t.double)      # new_* methods take in sizes\n",
    "a"
   ]
  },
  {
   "cell_type": "code",
   "execution_count": null,
   "metadata": {
    "colab": {},
    "colab_type": "code",
    "id": "KRbMjPP0Ghbs",
    "outputId": "3a59852b-fc7c-4aba-c995-7d35e4fc6105"
   },
   "outputs": [
    {
     "ename": "RuntimeError",
     "evalue": "No function is registered for schema aten::empty.memory_format(int[] size, *, ScalarType? dtype=None, Layout? layout=None, Device? device=None, bool? pin_memory=None, MemoryFormat? memory_format=None) -> Tensor on tensor type ComplexCPUTensorId; available functions are CPUTensorId, MkldnnCPUTensorId, SparseCPUTensorId, VariableTensorId",
     "output_type": "error",
     "traceback": [
      "\u001b[1;31m----------------------------------------------------------------------\u001b[0m",
      "\u001b[1;31mRuntimeError\u001b[0m                         Traceback (most recent call last)",
      "\u001b[1;32m<ipython-input-37-87526fee4220>\u001b[0m in \u001b[0;36m<module>\u001b[1;34m\u001b[0m\n\u001b[1;32m----> 1\u001b[1;33m \u001b[0ma\u001b[0m\u001b[1;33m=\u001b[0m\u001b[0mt\u001b[0m\u001b[1;33m.\u001b[0m\u001b[0mrandn_like\u001b[0m\u001b[1;33m(\u001b[0m\u001b[0ma\u001b[0m\u001b[1;33m,\u001b[0m\u001b[0mdtype\u001b[0m\u001b[1;33m=\u001b[0m\u001b[0mt\u001b[0m\u001b[1;33m.\u001b[0m\u001b[0mcomplex128\u001b[0m\u001b[1;33m)\u001b[0m \u001b[1;31m# all data type work except \"Complex\"\u001b[0m\u001b[1;33m\u001b[0m\u001b[1;33m\u001b[0m\u001b[0m\n\u001b[0m",
      "\u001b[1;31mRuntimeError\u001b[0m: No function is registered for schema aten::empty.memory_format(int[] size, *, ScalarType? dtype=None, Layout? layout=None, Device? device=None, bool? pin_memory=None, MemoryFormat? memory_format=None) -> Tensor on tensor type ComplexCPUTensorId; available functions are CPUTensorId, MkldnnCPUTensorId, SparseCPUTensorId, VariableTensorId"
     ]
    }
   ],
   "source": [
    "a=t.randn_like(a,dtype=t.complex128) # all data type work except \"Complex\""
   ]
  },
  {
   "cell_type": "code",
   "execution_count": null,
   "metadata": {
    "colab": {},
    "colab_type": "code",
    "id": "ttfGloT_Ghbw",
    "outputId": "2f0c499c-79d3-499f-fa04-81a5a1b392f5"
   },
   "outputs": [
    {
     "data": {
      "text/plain": [
       "tensor([[ 0.1393,  1.3637, -0.2345],\n",
       "        [-0.2731,  1.3095, -0.2041],\n",
       "        [-0.8161,  0.2120, -0.3693],\n",
       "        [-0.8447, -0.4595, -0.1200],\n",
       "        [-1.3854,  1.0672, -0.9550]])"
      ]
     },
     "execution_count": 68,
     "metadata": {
      "tags": []
     },
     "output_type": "execute_result"
    }
   ],
   "source": [
    "a=t.randn_like(a,dtype=t.float)             # override dtype!\n",
    "a                                           # result has the same size"
   ]
  },
  {
   "cell_type": "code",
   "execution_count": null,
   "metadata": {
    "colab": {},
    "colab_type": "code",
    "id": "aG0I7ZWXGhbz",
    "outputId": "84351c82-b3d4-4ef0-b4c9-52d69568e7cd"
   },
   "outputs": [
    {
     "data": {
      "text/plain": [
       "torch.Size([5, 3])"
      ]
     },
     "execution_count": 69,
     "metadata": {
      "tags": []
     },
     "output_type": "execute_result"
    }
   ],
   "source": [
    "a.size()"
   ]
  },
  {
   "cell_type": "markdown",
   "metadata": {
    "colab_type": "text",
    "id": "jG7DYkMbGhb3"
   },
   "source": [
    "**Note**"
   ]
  },
  {
   "cell_type": "markdown",
   "metadata": {
    "colab_type": "text",
    "id": "UpUY85uwGhb4"
   },
   "source": [
    "#### ``torch.Size`` is in fact a tuple, so it supports all tuple operations.\n",
    "\n"
   ]
  },
  {
   "cell_type": "markdown",
   "metadata": {
    "colab_type": "text",
    "id": "8qGKIMemGhb8"
   },
   "source": [
    "# Operations"
   ]
  },
  {
   "cell_type": "markdown",
   "metadata": {
    "colab_type": "text",
    "id": "Psnj76jEGhcB"
   },
   "source": [
    "There are multiple syntaxes for operations. In the following example, we will take a look at the addition operation."
   ]
  },
  {
   "cell_type": "code",
   "execution_count": null,
   "metadata": {
    "colab": {},
    "colab_type": "code",
    "id": "vesJFetqGhcE",
    "outputId": "66b9dea2-6ca9-48c6-9e52-7868780e0e5d"
   },
   "outputs": [
    {
     "data": {
      "text/plain": [
       "tensor([[ 0.1393,  1.3637, -0.2345],\n",
       "        [-0.2731,  1.3095, -0.2041],\n",
       "        [-0.8161,  0.2120, -0.3693],\n",
       "        [-0.8447, -0.4595, -0.1200],\n",
       "        [-1.3854,  1.0672, -0.9550]])"
      ]
     },
     "execution_count": 80,
     "metadata": {
      "tags": []
     },
     "output_type": "execute_result"
    }
   ],
   "source": [
    "a"
   ]
  },
  {
   "cell_type": "code",
   "execution_count": null,
   "metadata": {
    "colab": {},
    "colab_type": "code",
    "id": "53WAFzBOGhcN",
    "outputId": "411c86c6-0bb9-4023-dffe-a1ee24179dfc"
   },
   "outputs": [
    {
     "data": {
      "text/plain": [
       "tensor([[-2.1208,  0.4725, -0.0646],\n",
       "        [-0.2195,  0.8029, -0.2826],\n",
       "        [ 0.9933, -1.0271,  0.4310],\n",
       "        [ 0.1533,  0.5382,  0.0662],\n",
       "        [-2.3688,  0.1336, -1.2632]])"
      ]
     },
     "execution_count": 88,
     "metadata": {
      "tags": []
     },
     "output_type": "execute_result"
    }
   ],
   "source": [
    "b=t.randn(5,3)\n",
    "b"
   ]
  },
  {
   "cell_type": "code",
   "execution_count": null,
   "metadata": {
    "colab": {},
    "colab_type": "code",
    "id": "eQwemHjdGhcQ",
    "outputId": "591e60b4-49f0-42e8-8733-ecb298818dce"
   },
   "outputs": [
    {
     "name": "stdout",
     "output_type": "stream",
     "text": [
      "tensor([[-1.9815,  1.8362, -0.2990],\n",
      "        [-0.4926,  2.1124, -0.4867],\n",
      "        [ 0.1772, -0.8151,  0.0617],\n",
      "        [-0.6914,  0.0787, -0.0538],\n",
      "        [-3.7542,  1.2008, -2.2182]])\n"
     ]
    }
   ],
   "source": [
    "print(a+b)"
   ]
  },
  {
   "cell_type": "code",
   "execution_count": null,
   "metadata": {
    "colab": {},
    "colab_type": "code",
    "id": "cbCQ_xcEGhcT",
    "outputId": "e2c81059-321e-423a-baa1-6b22841b1298"
   },
   "outputs": [
    {
     "data": {
      "text/plain": [
       "tensor([[-1.9815,  1.8362, -0.2990],\n",
       "        [-0.4926,  2.1124, -0.4867],\n",
       "        [ 0.1772, -0.8151,  0.0617],\n",
       "        [-0.6914,  0.0787, -0.0538],\n",
       "        [-3.7542,  1.2008, -2.2182]])"
      ]
     },
     "execution_count": 90,
     "metadata": {
      "tags": []
     },
     "output_type": "execute_result"
    }
   ],
   "source": [
    "t.add(a,b)"
   ]
  },
  {
   "cell_type": "markdown",
   "metadata": {
    "colab_type": "text",
    "id": "kVLcSoDYGhcX"
   },
   "source": [
    "### Addition: providing an output tensor as argument\n",
    "\n"
   ]
  },
  {
   "cell_type": "code",
   "execution_count": null,
   "metadata": {
    "colab": {},
    "colab_type": "code",
    "id": "m-eJIayRGhcY",
    "outputId": "758f2abd-ea65-4b60-d67d-d023712a45d6"
   },
   "outputs": [
    {
     "data": {
      "text/plain": [
       "tensor([[1.0286e-38, 1.0653e-38, 9.1837e-39],\n",
       "        [4.2246e-39, 1.0286e-38, 1.0653e-38],\n",
       "        [1.0194e-38, 8.4490e-39, 1.0469e-38],\n",
       "        [9.3674e-39, 9.9184e-39, 8.7245e-39],\n",
       "        [9.2755e-39, 8.9082e-39, 9.9184e-39]])"
      ]
     },
     "execution_count": 91,
     "metadata": {
      "tags": []
     },
     "output_type": "execute_result"
    }
   ],
   "source": [
    "res = t.empty(5,3)\n",
    "res        "
   ]
  },
  {
   "cell_type": "code",
   "execution_count": null,
   "metadata": {
    "colab": {},
    "colab_type": "code",
    "id": "ESHDMpuaGhcb",
    "outputId": "60cc5fe9-a3eb-4377-bf97-664af2302c3e"
   },
   "outputs": [
    {
     "name": "stdout",
     "output_type": "stream",
     "text": [
      "tensor([[-1.9815,  1.8362, -0.2990],\n",
      "        [-0.4926,  2.1124, -0.4867],\n",
      "        [ 0.1772, -0.8151,  0.0617],\n",
      "        [-0.6914,  0.0787, -0.0538],\n",
      "        [-3.7542,  1.2008, -2.2182]])\n"
     ]
    }
   ],
   "source": [
    "t.add(a,b,out=res)\n",
    "print(res)             # res value is changed"
   ]
  },
  {
   "cell_type": "markdown",
   "metadata": {
    "colab_type": "text",
    "id": "GNQnhYTyGhce"
   },
   "source": [
    "### Addition: in-place"
   ]
  },
  {
   "cell_type": "code",
   "execution_count": null,
   "metadata": {
    "colab": {},
    "colab_type": "code",
    "id": "uaX05zdaGhch",
    "outputId": "de722940-1e61-464d-85c6-ecfde75a35ff"
   },
   "outputs": [
    {
     "name": "stdout",
     "output_type": "stream",
     "text": [
      "tensor([[-1.7030,  4.5636, -0.7680],\n",
      "        [-1.0387,  4.7315, -0.8949],\n",
      "        [-1.4550, -0.3910, -0.6769],\n",
      "        [-2.3808, -0.8402, -0.2938],\n",
      "        [-6.5251,  3.3353, -4.1281]])\n"
     ]
    }
   ],
   "source": [
    "# add a to b\n",
    "b.add_(a)\n",
    "print(b)   # b is changed bcoz \"add_\" so (underscore)"
   ]
  },
  {
   "cell_type": "markdown",
   "metadata": {
    "colab_type": "text",
    "id": "vMRhAO0XGhck"
   },
   "source": [
    "## Note"
   ]
  },
  {
   "cell_type": "markdown",
   "metadata": {
    "colab_type": "text",
    "id": "SCcPMzu7Ghcl"
   },
   "source": [
    "Any operation that mutates a tensor in-place is post-fixed with an ``_``. For example: ``x.copy_(y)``, ``x.t_()``, will change ``x``."
   ]
  },
  {
   "cell_type": "markdown",
   "metadata": {
    "colab_type": "text",
    "id": "jJfQW1IAGhcs"
   },
   "source": [
    "You can use standard NumPy-like indexing with all bells and whistles!\n",
    "\n"
   ]
  },
  {
   "cell_type": "code",
   "execution_count": null,
   "metadata": {
    "colab": {},
    "colab_type": "code",
    "id": "rZwFFirnGhcu",
    "outputId": "99036d3d-d5c0-42ce-fd4c-ddef77412093"
   },
   "outputs": [
    {
     "name": "stdout",
     "output_type": "stream",
     "text": [
      "tensor([ 4.5636,  4.7315, -0.3910, -0.8402,  3.3353])\n"
     ]
    }
   ],
   "source": [
    "print(b[:,1])  # all rows but only 1st column"
   ]
  },
  {
   "cell_type": "markdown",
   "metadata": {
    "colab_type": "text",
    "id": "p_HrZybkGhc7"
   },
   "source": [
    "Resizing: If you want to resize/reshape tensor, you can use torch.view:\n",
    "\n"
   ]
  },
  {
   "cell_type": "code",
   "execution_count": null,
   "metadata": {
    "colab": {},
    "colab_type": "code",
    "id": "BFC--fWrGhc8",
    "outputId": "1ea64685-8c61-4750-ac5a-f17448eb2f62"
   },
   "outputs": [
    {
     "name": "stdout",
     "output_type": "stream",
     "text": [
      "tensor([[-0.2084, -0.5540,  1.3042,  0.6991],\n",
      "        [-0.8944, -0.7268,  0.6353, -2.2542],\n",
      "        [-0.6461, -0.2023, -1.0190,  0.1222],\n",
      "        [-3.5691, -0.4503,  0.2931, -1.4487]])\n",
      "\n",
      "tensor([-0.2084, -0.5540,  1.3042,  0.6991, -0.8944, -0.7268,  0.6353, -2.2542,\n",
      "        -0.6461, -0.2023, -1.0190,  0.1222, -3.5691, -0.4503,  0.2931, -1.4487])\n",
      "\n",
      "tensor([[-0.2084, -0.5540,  1.3042,  0.6991, -0.8944, -0.7268,  0.6353, -2.2542],\n",
      "        [-0.6461, -0.2023, -1.0190,  0.1222, -3.5691, -0.4503,  0.2931, -1.4487]])\n"
     ]
    }
   ],
   "source": [
    "x=t.randn(4,4)\n",
    "print(x)\n",
    "print()             # space line\n",
    "\n",
    "y=x.view(16)        #  \"view\" converted size of 2D array into 1D array or vector\n",
    "print(y)\n",
    "print()\n",
    "\n",
    "z=x.view(-1,8)      # reshape into 2x8 matrix(2D)  [-1 automatic take row as mapping]\n",
    "print(z)"
   ]
  },
  {
   "cell_type": "code",
   "execution_count": null,
   "metadata": {
    "colab": {},
    "colab_type": "code",
    "id": "RLmr9qSIGhdA",
    "outputId": "f76cbedf-34d3-4342-a1f6-f7f36f1f3179"
   },
   "outputs": [
    {
     "data": {
      "text/plain": [
       "tensor([[-0.2084, -0.5540,  1.3042,  0.6991, -0.8944, -0.7268,  0.6353, -2.2542],\n",
       "        [-0.6461, -0.2023, -1.0190,  0.1222, -3.5691, -0.4503,  0.2931, -1.4487]])"
      ]
     },
     "execution_count": 108,
     "metadata": {
      "tags": []
     },
     "output_type": "execute_result"
    }
   ],
   "source": [
    "a=x.view(2,-1)   # automatic take column size\n",
    "a"
   ]
  },
  {
   "cell_type": "code",
   "execution_count": null,
   "metadata": {
    "colab": {},
    "colab_type": "code",
    "id": "lGY6xSppGhdE",
    "outputId": "6a93e976-c00d-4f86-ca31-f40b7e7c8131"
   },
   "outputs": [
    {
     "data": {
      "text/plain": [
       "(torch.Size([4, 4]), torch.Size([16]), torch.Size([2, 8]))"
      ]
     },
     "execution_count": 113,
     "metadata": {
      "tags": []
     },
     "output_type": "execute_result"
    }
   ],
   "source": [
    "x.size() , y.size(), z.size()"
   ]
  },
  {
   "cell_type": "markdown",
   "metadata": {
    "colab_type": "text",
    "id": "qOGOFFn6GhdK"
   },
   "source": [
    "If you have a one element tensor, use .item() to get the value as a Python number\n",
    "\n"
   ]
  },
  {
   "cell_type": "code",
   "execution_count": null,
   "metadata": {
    "colab": {},
    "colab_type": "code",
    "id": "xPs6UAJHGhdN",
    "outputId": "d86b1084-9525-4cbb-9a75-77e2134fdf38"
   },
   "outputs": [
    {
     "name": "stdout",
     "output_type": "stream",
     "text": [
      "tensor([0.3535])\n",
      "0.3535447120666504\n"
     ]
    }
   ],
   "source": [
    "x=t.randn(1)\n",
    "print(x)\n",
    "print(x.item())"
   ]
  },
  {
   "cell_type": "code",
   "execution_count": null,
   "metadata": {
    "colab": {},
    "colab_type": "code",
    "id": "0MJbxX1fGhdQ",
    "outputId": "440d890c-1f83-44f5-bce0-0f6c25ffaacb"
   },
   "outputs": [
    {
     "name": "stdout",
     "output_type": "stream",
     "text": [
      "tensor([0.3535])\n",
      "0.3535447120666504\n"
     ]
    }
   ],
   "source": [
    "y=t.randn([10])\n",
    "print(x)\n",
    "print(x.item())"
   ]
  },
  {
   "cell_type": "code",
   "execution_count": null,
   "metadata": {
    "colab": {},
    "colab_type": "code",
    "id": "dKUj9mFTGhdT",
    "outputId": "129a292e-146f-4476-9cd4-c96aa36241c3"
   },
   "outputs": [
    {
     "name": "stdout",
     "output_type": "stream",
     "text": [
      "tensor([[ 1.0654, -0.8526]])\n"
     ]
    },
    {
     "ename": "ValueError",
     "evalue": "only one element tensors can be converted to Python scalars",
     "output_type": "error",
     "traceback": [
      "\u001b[1;31m----------------------------------------------------------------------\u001b[0m",
      "\u001b[1;31mValueError\u001b[0m                           Traceback (most recent call last)",
      "\u001b[1;32m<ipython-input-124-36ae2b04796c>\u001b[0m in \u001b[0;36m<module>\u001b[1;34m\u001b[0m\n\u001b[0;32m      1\u001b[0m \u001b[0mx\u001b[0m\u001b[1;33m=\u001b[0m\u001b[0mt\u001b[0m\u001b[1;33m.\u001b[0m\u001b[0mrandn\u001b[0m\u001b[1;33m(\u001b[0m\u001b[1;36m1\u001b[0m\u001b[1;33m,\u001b[0m\u001b[1;36m2\u001b[0m\u001b[1;33m)\u001b[0m\u001b[1;33m\u001b[0m\u001b[1;33m\u001b[0m\u001b[0m\n\u001b[0;32m      2\u001b[0m \u001b[0mprint\u001b[0m\u001b[1;33m(\u001b[0m\u001b[0mx\u001b[0m\u001b[1;33m)\u001b[0m\u001b[1;33m\u001b[0m\u001b[1;33m\u001b[0m\u001b[0m\n\u001b[1;32m----> 3\u001b[1;33m \u001b[0mprint\u001b[0m\u001b[1;33m(\u001b[0m\u001b[0mx\u001b[0m\u001b[1;33m.\u001b[0m\u001b[0mitem\u001b[0m\u001b[1;33m(\u001b[0m\u001b[1;33m)\u001b[0m\u001b[1;33m)\u001b[0m      \u001b[1;31m# only one element converted\u001b[0m\u001b[1;33m\u001b[0m\u001b[1;33m\u001b[0m\u001b[0m\n\u001b[0m",
      "\u001b[1;31mValueError\u001b[0m: only one element tensors can be converted to Python scalars"
     ]
    }
   ],
   "source": [
    "x=t.randn(1,2)\n",
    "print(x)\n",
    "print(x.item())      # only one element converted"
   ]
  },
  {
   "cell_type": "code",
   "execution_count": null,
   "metadata": {
    "colab": {},
    "colab_type": "code",
    "id": "9Lyol5_lGhdW",
    "outputId": "03428efc-153f-44f8-aafa-de2387da7c15"
   },
   "outputs": [
    {
     "name": "stdout",
     "output_type": "stream",
     "text": [
      "tensor([[ 0.7815, -0.1614]])\n"
     ]
    },
    {
     "ename": "ValueError",
     "evalue": "only one element tensors can be converted to Python scalars",
     "output_type": "error",
     "traceback": [
      "\u001b[1;31m----------------------------------------------------------------------\u001b[0m",
      "\u001b[1;31mValueError\u001b[0m                           Traceback (most recent call last)",
      "\u001b[1;32m<ipython-input-125-582fea17eed7>\u001b[0m in \u001b[0;36m<module>\u001b[1;34m\u001b[0m\n\u001b[0;32m      1\u001b[0m \u001b[0mx\u001b[0m\u001b[1;33m=\u001b[0m\u001b[0mt\u001b[0m\u001b[1;33m.\u001b[0m\u001b[0mrandn\u001b[0m\u001b[1;33m(\u001b[0m\u001b[1;33m[\u001b[0m\u001b[1;36m1\u001b[0m\u001b[1;33m,\u001b[0m\u001b[1;36m2\u001b[0m\u001b[1;33m]\u001b[0m\u001b[1;33m)\u001b[0m\u001b[1;33m\u001b[0m\u001b[1;33m\u001b[0m\u001b[0m\n\u001b[0;32m      2\u001b[0m \u001b[0mprint\u001b[0m\u001b[1;33m(\u001b[0m\u001b[0mx\u001b[0m\u001b[1;33m)\u001b[0m\u001b[1;33m\u001b[0m\u001b[1;33m\u001b[0m\u001b[0m\n\u001b[1;32m----> 3\u001b[1;33m \u001b[0mprint\u001b[0m\u001b[1;33m(\u001b[0m\u001b[0mx\u001b[0m\u001b[1;33m.\u001b[0m\u001b[0mitem\u001b[0m\u001b[1;33m(\u001b[0m\u001b[1;33m)\u001b[0m\u001b[1;33m)\u001b[0m   \u001b[1;31m# only one element converted\u001b[0m\u001b[1;33m\u001b[0m\u001b[1;33m\u001b[0m\u001b[0m\n\u001b[0m",
      "\u001b[1;31mValueError\u001b[0m: only one element tensors can be converted to Python scalars"
     ]
    }
   ],
   "source": [
    "x=t.randn([1,2])\n",
    "print(x)\n",
    "print(x.item())   # only one element converted"
   ]
  },
  {
   "cell_type": "markdown",
   "metadata": {
    "colab_type": "text",
    "id": "OTMhUR0PGhdb"
   },
   "source": [
    "**Read later:**"
   ]
  },
  {
   "cell_type": "markdown",
   "metadata": {
    "colab_type": "text",
    "id": "jW8i1LB6Ghdc"
   },
   "source": [
    "100+ Tensor operations, including transposing, indexing, slicing, mathematical operations, linear algebra, random numbers, etc., are described here <http://pytorch.org/docs/torch>_.\n",
    "\n"
   ]
  },
  {
   "cell_type": "markdown",
   "metadata": {
    "colab_type": "text",
    "id": "q9cMZXWNGhdh"
   },
   "source": [
    "# NumPy Bridge\n"
   ]
  },
  {
   "cell_type": "markdown",
   "metadata": {
    "colab_type": "text",
    "id": "Xv5IJ2-zGhdj"
   },
   "source": [
    "Converting a Torch Tensor to a NumPy array and vice versa is a breeze.\n",
    "The Torch Tensor and NumPy array will share their underlying memory locations, and changing one will change the other.\n",
    "\n"
   ]
  },
  {
   "cell_type": "markdown",
   "metadata": {
    "colab_type": "text",
    "id": "OWTkpWWKGhdl"
   },
   "source": [
    "**Converting a Torch Tensor to a NumPy Array**"
   ]
  },
  {
   "cell_type": "code",
   "execution_count": null,
   "metadata": {
    "colab": {},
    "colab_type": "code",
    "id": "AEU7qC0LGhdm",
    "outputId": "6591c469-bfe6-41b7-b1bd-63f2fa27ef8e"
   },
   "outputs": [
    {
     "name": "stdout",
     "output_type": "stream",
     "text": [
      "tensor([1., 1., 1., 1., 1.])\n"
     ]
    }
   ],
   "source": [
    "a=t.ones(5)\n",
    "print(a)"
   ]
  },
  {
   "cell_type": "code",
   "execution_count": null,
   "metadata": {
    "colab": {},
    "colab_type": "code",
    "id": "OYSQGVqxGhdw",
    "outputId": "d65155c9-4eb5-44e0-8e39-49f8c1001e98"
   },
   "outputs": [
    {
     "name": "stdout",
     "output_type": "stream",
     "text": [
      "[1. 1. 1. 1. 1.]\n"
     ]
    }
   ],
   "source": [
    "b=a.numpy()\n",
    "print(b)"
   ]
  },
  {
   "cell_type": "markdown",
   "metadata": {
    "colab_type": "text",
    "id": "67BmJ6eIGhdz"
   },
   "source": [
    "**See how the numpy array changed in value.**"
   ]
  },
  {
   "cell_type": "code",
   "execution_count": null,
   "metadata": {
    "colab": {},
    "colab_type": "code",
    "id": "CpOlYAZ_Ghdz",
    "outputId": "e1a6ac99-ede2-4971-824a-bc13d18347f0"
   },
   "outputs": [
    {
     "name": "stdout",
     "output_type": "stream",
     "text": [
      "tensor([2., 2., 2., 2., 2.])\n",
      "[2. 2. 2. 2. 2.]\n"
     ]
    }
   ],
   "source": [
    "a.add_(1)   # add_(value)    value must be tensor not numpy or other type\n",
    "print(a)\n",
    "print(b)    # a changes also make in numpy array b"
   ]
  },
  {
   "cell_type": "markdown",
   "metadata": {
    "colab_type": "text",
    "id": "cxC7eDebGheA"
   },
   "source": [
    "Converting NumPy Array to Torch Tensor See how changing the np array changed the Torch Tensor automatically\n",
    "\n"
   ]
  },
  {
   "cell_type": "code",
   "execution_count": null,
   "metadata": {
    "colab": {},
    "colab_type": "code",
    "id": "pu_nlX91GheC",
    "outputId": "01bb6a1a-d325-4113-9ac2-9ca5cdad8c8b"
   },
   "outputs": [
    {
     "name": "stdout",
     "output_type": "stream",
     "text": [
      "[1. 1. 1. 1. 1.] tensor([1., 1., 1., 1., 1.], dtype=torch.float64)\n",
      "\n",
      "[2. 2. 2. 2. 2.]\n",
      "tensor([2., 2., 2., 2., 2.], dtype=torch.float64)\n"
     ]
    }
   ],
   "source": [
    "import numpy as np\n",
    "a=np.ones(5)\n",
    "b=t.from_numpy(a)\n",
    "print(a,b)\n",
    "print()\n",
    "\n",
    "np.add(a,1,out=a)  #out=a means changes add changed saved in a\n",
    "print(a)\n",
    "print(b)           # b(tensor) value is changed"
   ]
  },
  {
   "cell_type": "markdown",
   "metadata": {
    "colab_type": "text",
    "id": "VHqBG_LuGheG"
   },
   "source": [
    "All the Tensors on the CPU except a CharTensor support converting to NumPy and back.\n",
    "\n"
   ]
  },
  {
   "cell_type": "markdown",
   "metadata": {
    "colab_type": "text",
    "id": "aKx0kIYsGheO"
   },
   "source": [
    "# CUDA Tensors\n"
   ]
  },
  {
   "cell_type": "markdown",
   "metadata": {
    "colab_type": "text",
    "id": "txao46EMGheP"
   },
   "source": [
    "Tensors can be moved onto any device using the .to method.\n"
   ]
  },
  {
   "cell_type": "code",
   "execution_count": null,
   "metadata": {
    "colab": {},
    "colab_type": "code",
    "id": "9FZ7JyT_GheP"
   },
   "outputs": [],
   "source": [
    "# let us run this cell only if CUDA is available\n",
    "# We will use ``torch.device`` objects to move tensors in and out of GPU\n",
    "\n",
    "if t.cuda.is_available():\n",
    "    device=t.device(\"cuda\")                # a CUDA device object\n",
    "    y=t.ones_lilkes(x,device=device)       # directly create a tensor on GPU\n",
    "    x=x.to(device)                         # or just use strings ``.to(\"cuda\")``\n",
    "    z=x+y                                  \n",
    "    print(z)\n",
    "    print(z.to(\"cpu\",t.double))            # ``.to`` can also change dtype together!"
   ]
  },
  {
   "cell_type": "code",
   "execution_count": null,
   "metadata": {
    "colab": {
     "base_uri": "https://localhost:8080/",
     "height": 68
    },
    "colab_type": "code",
    "executionInfo": {
     "elapsed": 734,
     "status": "ok",
     "timestamp": 1572614221382,
     "user": {
      "displayName": "anil patidar",
      "photoUrl": "https://lh3.googleusercontent.com/a-/AAuE7mBOpNM26lFln0sQCl4yOtCwHeImpsg3tBaiaNYFrkw=s64",
      "userId": "09103336182194663163"
     },
     "user_tz": -330
    },
    "id": "eaBwbb70G9JO",
    "outputId": "c566c313-9ac8-47a3-e459-05ba24783016"
   },
   "outputs": [
    {
     "data": {
      "text/plain": [
       "tensor([[1., 1., 1.],\n",
       "        [1., 1., 1.],\n",
       "        [1., 1., 1.]])"
      ]
     },
     "execution_count": 8,
     "metadata": {
      "tags": []
     },
     "output_type": "execute_result"
    }
   ],
   "source": [
    "a=t.ones(3,3)\n",
    "a"
   ]
  },
  {
   "cell_type": "code",
   "execution_count": null,
   "metadata": {
    "colab": {
     "base_uri": "https://localhost:8080/",
     "height": 68
    },
    "colab_type": "code",
    "executionInfo": {
     "elapsed": 737,
     "status": "ok",
     "timestamp": 1572614295333,
     "user": {
      "displayName": "anil patidar",
      "photoUrl": "https://lh3.googleusercontent.com/a-/AAuE7mBOpNM26lFln0sQCl4yOtCwHeImpsg3tBaiaNYFrkw=s64",
      "userId": "09103336182194663163"
     },
     "user_tz": -330
    },
    "id": "sc9s3-CpHKp-",
    "outputId": "6e027d28-4041-4800-81c1-142a46ca5546"
   },
   "outputs": [
    {
     "data": {
      "text/plain": [
       "tensor([[1., 1., 1.],\n",
       "        [1., 1., 1.],\n",
       "        [1., 1., 1.]])"
      ]
     },
     "execution_count": 11,
     "metadata": {
      "tags": []
     },
     "output_type": "execute_result"
    }
   ],
   "source": [
    "b=t.zeros(3,3)\n",
    "a+b"
   ]
  },
  {
   "cell_type": "code",
   "execution_count": null,
   "metadata": {
    "colab": {
     "base_uri": "https://localhost:8080/",
     "height": 68
    },
    "colab_type": "code",
    "executionInfo": {
     "elapsed": 704,
     "status": "ok",
     "timestamp": 1572614357442,
     "user": {
      "displayName": "anil patidar",
      "photoUrl": "https://lh3.googleusercontent.com/a-/AAuE7mBOpNM26lFln0sQCl4yOtCwHeImpsg3tBaiaNYFrkw=s64",
      "userId": "09103336182194663163"
     },
     "user_tz": -330
    },
    "id": "WqsClcFVHcs6",
    "outputId": "a7cfe269-45fe-4e32-ca37-ff3a64cd05ab"
   },
   "outputs": [
    {
     "data": {
      "text/plain": [
       "tensor([[0, 1, 2],\n",
       "        [3, 4, 5],\n",
       "        [6, 7, 8]])"
      ]
     },
     "execution_count": 13,
     "metadata": {
      "tags": []
     },
     "output_type": "execute_result"
    }
   ],
   "source": [
    "c=t.arange(9).reshape(3,3)\n",
    "c"
   ]
  },
  {
   "cell_type": "code",
   "execution_count": null,
   "metadata": {
    "colab": {
     "base_uri": "https://localhost:8080/",
     "height": 68
    },
    "colab_type": "code",
    "executionInfo": {
     "elapsed": 723,
     "status": "ok",
     "timestamp": 1572614375087,
     "user": {
      "displayName": "anil patidar",
      "photoUrl": "https://lh3.googleusercontent.com/a-/AAuE7mBOpNM26lFln0sQCl4yOtCwHeImpsg3tBaiaNYFrkw=s64",
      "userId": "09103336182194663163"
     },
     "user_tz": -330
    },
    "id": "b4X2HkJvHr4Q",
    "outputId": "462801bd-b103-4305-b98f-300f026fca7c"
   },
   "outputs": [
    {
     "data": {
      "text/plain": [
       "tensor([[1., 2., 3.],\n",
       "        [4., 5., 6.],\n",
       "        [7., 8., 9.]])"
      ]
     },
     "execution_count": 15,
     "metadata": {
      "tags": []
     },
     "output_type": "execute_result"
    }
   ],
   "source": [
    "c+a"
   ]
  },
  {
   "cell_type": "code",
   "execution_count": null,
   "metadata": {
    "colab": {
     "base_uri": "https://localhost:8080/",
     "height": 34
    },
    "colab_type": "code",
    "executionInfo": {
     "elapsed": 953,
     "status": "ok",
     "timestamp": 1572614573259,
     "user": {
      "displayName": "anil patidar",
      "photoUrl": "https://lh3.googleusercontent.com/a-/AAuE7mBOpNM26lFln0sQCl4yOtCwHeImpsg3tBaiaNYFrkw=s64",
      "userId": "09103336182194663163"
     },
     "user_tz": -330
    },
    "id": "cBNEOe04HwLu",
    "outputId": "a0dbba16-cc39-4d40-cdde-0f264d1f39f1"
   },
   "outputs": [
    {
     "data": {
      "text/plain": [
       "torch.Size([3, 3])"
      ]
     },
     "execution_count": 39,
     "metadata": {
      "tags": []
     },
     "output_type": "execute_result"
    }
   ],
   "source": [
    "c.size()"
   ]
  },
  {
   "cell_type": "code",
   "execution_count": null,
   "metadata": {
    "colab": {
     "base_uri": "https://localhost:8080/",
     "height": 34
    },
    "colab_type": "code",
    "executionInfo": {
     "elapsed": 867,
     "status": "ok",
     "timestamp": 1572614423159,
     "user": {
      "displayName": "anil patidar",
      "photoUrl": "https://lh3.googleusercontent.com/a-/AAuE7mBOpNM26lFln0sQCl4yOtCwHeImpsg3tBaiaNYFrkw=s64",
      "userId": "09103336182194663163"
     },
     "user_tz": -330
    },
    "id": "nrFDVz4RH10z",
    "outputId": "b021727f-fd49-4cc9-eb2f-9496e4bc032f"
   },
   "outputs": [
    {
     "data": {
      "text/plain": [
       "torch.Size([3, 3])"
      ]
     },
     "execution_count": 21,
     "metadata": {
      "tags": []
     },
     "output_type": "execute_result"
    }
   ],
   "source": [
    "c.shape"
   ]
  },
  {
   "cell_type": "code",
   "execution_count": null,
   "metadata": {
    "colab": {
     "base_uri": "https://localhost:8080/",
     "height": 183
    },
    "colab_type": "code",
    "executionInfo": {
     "elapsed": 962,
     "status": "error",
     "timestamp": 1572614587926,
     "user": {
      "displayName": "anil patidar",
      "photoUrl": "https://lh3.googleusercontent.com/a-/AAuE7mBOpNM26lFln0sQCl4yOtCwHeImpsg3tBaiaNYFrkw=s64",
      "userId": "09103336182194663163"
     },
     "user_tz": -330
    },
    "id": "-zh3FxUnH74n",
    "outputId": "98e46d61-9104-4255-e9c7-e371f25c8891"
   },
   "outputs": [
    {
     "ename": "AttributeError",
     "evalue": "ignored",
     "output_type": "error",
     "traceback": [
      "\u001b[0;31m---------------------------------------------------------------------------\u001b[0m",
      "\u001b[0;31mAttributeError\u001b[0m                            Traceback (most recent call last)",
      "\u001b[0;32m<ipython-input-40-a370b49d26d3>\u001b[0m in \u001b[0;36m<module>\u001b[0;34m()\u001b[0m\n\u001b[0;32m----> 1\u001b[0;31m \u001b[0mc\u001b[0m\u001b[0;34m.\u001b[0m\u001b[0mitemsize\u001b[0m\u001b[0;34m(\u001b[0m\u001b[0;34m)\u001b[0m\u001b[0;34m\u001b[0m\u001b[0;34m\u001b[0m\u001b[0m\n\u001b[0m",
      "\u001b[0;31mAttributeError\u001b[0m: 'Tensor' object has no attribute 'itemsize'"
     ]
    }
   ],
   "source": [
    "c.itemsize()"
   ]
  },
  {
   "cell_type": "code",
   "execution_count": null,
   "metadata": {
    "colab": {
     "base_uri": "https://localhost:8080/",
     "height": 34
    },
    "colab_type": "code",
    "executionInfo": {
     "elapsed": 758,
     "status": "ok",
     "timestamp": 1572614461194,
     "user": {
      "displayName": "anil patidar",
      "photoUrl": "https://lh3.googleusercontent.com/a-/AAuE7mBOpNM26lFln0sQCl4yOtCwHeImpsg3tBaiaNYFrkw=s64",
      "userId": "09103336182194663163"
     },
     "user_tz": -330
    },
    "id": "icgbGxsGIBr-",
    "outputId": "e3e08e30-04c2-45bc-856c-74d01b7d3c89"
   },
   "outputs": [
    {
     "data": {
      "text/plain": [
       "2"
      ]
     },
     "execution_count": 27,
     "metadata": {
      "tags": []
     },
     "output_type": "execute_result"
    }
   ],
   "source": [
    "c.ndim"
   ]
  },
  {
   "cell_type": "code",
   "execution_count": null,
   "metadata": {
    "colab": {
     "base_uri": "https://localhost:8080/",
     "height": 68
    },
    "colab_type": "code",
    "executionInfo": {
     "elapsed": 694,
     "status": "ok",
     "timestamp": 1572614470414,
     "user": {
      "displayName": "anil patidar",
      "photoUrl": "https://lh3.googleusercontent.com/a-/AAuE7mBOpNM26lFln0sQCl4yOtCwHeImpsg3tBaiaNYFrkw=s64",
      "userId": "09103336182194663163"
     },
     "user_tz": -330
    },
    "id": "E1CUGvNaIFNM",
    "outputId": "8617e82f-0565-4da9-f082-e72b4c68e22d"
   },
   "outputs": [
    {
     "data": {
      "text/plain": [
       "tensor([[-1.,  0.,  1.],\n",
       "        [ 2.,  3.,  4.],\n",
       "        [ 5.,  6.,  7.]])"
      ]
     },
     "execution_count": 29,
     "metadata": {
      "tags": []
     },
     "output_type": "execute_result"
    }
   ],
   "source": [
    "c-a"
   ]
  },
  {
   "cell_type": "code",
   "execution_count": null,
   "metadata": {
    "colab": {
     "base_uri": "https://localhost:8080/",
     "height": 68
    },
    "colab_type": "code",
    "executionInfo": {
     "elapsed": 787,
     "status": "ok",
     "timestamp": 1572614480114,
     "user": {
      "displayName": "anil patidar",
      "photoUrl": "https://lh3.googleusercontent.com/a-/AAuE7mBOpNM26lFln0sQCl4yOtCwHeImpsg3tBaiaNYFrkw=s64",
      "userId": "09103336182194663163"
     },
     "user_tz": -330
    },
    "id": "zOmFd8VBIHdg",
    "outputId": "1469a322-2446-4809-c25d-d8a07ccad232"
   },
   "outputs": [
    {
     "data": {
      "text/plain": [
       "tensor([[0., 1., 2.],\n",
       "        [3., 4., 5.],\n",
       "        [6., 7., 8.]])"
      ]
     },
     "execution_count": 31,
     "metadata": {
      "tags": []
     },
     "output_type": "execute_result"
    }
   ],
   "source": [
    "a*c"
   ]
  },
  {
   "cell_type": "code",
   "execution_count": null,
   "metadata": {
    "colab": {
     "base_uri": "https://localhost:8080/",
     "height": 68
    },
    "colab_type": "code",
    "executionInfo": {
     "elapsed": 814,
     "status": "ok",
     "timestamp": 1572614485789,
     "user": {
      "displayName": "anil patidar",
      "photoUrl": "https://lh3.googleusercontent.com/a-/AAuE7mBOpNM26lFln0sQCl4yOtCwHeImpsg3tBaiaNYFrkw=s64",
      "userId": "09103336182194663163"
     },
     "user_tz": -330
    },
    "id": "O0okRuYaIJ0K",
    "outputId": "056f656f-7823-431b-b121-e8f16090f01a"
   },
   "outputs": [
    {
     "data": {
      "text/plain": [
       "tensor([[0., 1., 2.],\n",
       "        [3., 4., 5.],\n",
       "        [6., 7., 8.]])"
      ]
     },
     "execution_count": 33,
     "metadata": {
      "tags": []
     },
     "output_type": "execute_result"
    }
   ],
   "source": [
    "c/a"
   ]
  },
  {
   "cell_type": "code",
   "execution_count": null,
   "metadata": {
    "colab": {
     "base_uri": "https://localhost:8080/",
     "height": 68
    },
    "colab_type": "code",
    "executionInfo": {
     "elapsed": 972,
     "status": "ok",
     "timestamp": 1572614490734,
     "user": {
      "displayName": "anil patidar",
      "photoUrl": "https://lh3.googleusercontent.com/a-/AAuE7mBOpNM26lFln0sQCl4yOtCwHeImpsg3tBaiaNYFrkw=s64",
      "userId": "09103336182194663163"
     },
     "user_tz": -330
    },
    "id": "ul9zcDIXILNC",
    "outputId": "6fccaa56-0c4c-4998-bc18-a64a1908e6d8"
   },
   "outputs": [
    {
     "data": {
      "text/plain": [
       "tensor([[0., 1., 2.],\n",
       "        [3., 4., 5.],\n",
       "        [6., 7., 8.]])"
      ]
     },
     "execution_count": 35,
     "metadata": {
      "tags": []
     },
     "output_type": "execute_result"
    }
   ],
   "source": [
    "c//a"
   ]
  },
  {
   "cell_type": "code",
   "execution_count": null,
   "metadata": {
    "colab": {
     "base_uri": "https://localhost:8080/",
     "height": 183
    },
    "colab_type": "code",
    "executionInfo": {
     "elapsed": 728,
     "status": "error",
     "timestamp": 1572614617305,
     "user": {
      "displayName": "anil patidar",
      "photoUrl": "https://lh3.googleusercontent.com/a-/AAuE7mBOpNM26lFln0sQCl4yOtCwHeImpsg3tBaiaNYFrkw=s64",
      "userId": "09103336182194663163"
     },
     "user_tz": -330
    },
    "id": "CgdyEeWnIMWY",
    "outputId": "057db24a-8b68-4ed4-8b7c-3dffd86bab62"
   },
   "outputs": [
    {
     "ename": "RuntimeError",
     "evalue": "ignored",
     "output_type": "error",
     "traceback": [
      "\u001b[0;31m---------------------------------------------------------------------------\u001b[0m",
      "\u001b[0;31mRuntimeError\u001b[0m                              Traceback (most recent call last)",
      "\u001b[0;32m<ipython-input-41-764b8f76bf1b>\u001b[0m in \u001b[0;36m<module>\u001b[0;34m()\u001b[0m\n\u001b[0;32m----> 1\u001b[0;31m \u001b[0mc\u001b[0m\u001b[0;34m%\u001b[0m\u001b[0ma\u001b[0m\u001b[0;34m\u001b[0m\u001b[0;34m\u001b[0m\u001b[0m\n\u001b[0m",
      "\u001b[0;31mRuntimeError\u001b[0m: Expected object of scalar type Long but got scalar type Float for argument #2 'other' in call to _th_remainder"
     ]
    }
   ],
   "source": [
    "c%a"
   ]
  },
  {
   "cell_type": "markdown",
   "metadata": {
    "colab_type": "text",
    "id": "udQBf6yDI4OC"
   },
   "source": [
    "# Indexing\n"
   ]
  },
  {
   "cell_type": "code",
   "execution_count": null,
   "metadata": {
    "colab": {
     "base_uri": "https://localhost:8080/",
     "height": 34
    },
    "colab_type": "code",
    "executionInfo": {
     "elapsed": 737,
     "status": "ok",
     "timestamp": 1572614681939,
     "user": {
      "displayName": "anil patidar",
      "photoUrl": "https://lh3.googleusercontent.com/a-/AAuE7mBOpNM26lFln0sQCl4yOtCwHeImpsg3tBaiaNYFrkw=s64",
      "userId": "09103336182194663163"
     },
     "user_tz": -330
    },
    "id": "6U-GdAvkIrTX",
    "outputId": "eae2dcd0-713e-4d9b-8ff0-0df3c8756170"
   },
   "outputs": [
    {
     "data": {
      "text/plain": [
       "tensor([0, 1, 2])"
      ]
     },
     "execution_count": 43,
     "metadata": {
      "tags": []
     },
     "output_type": "execute_result"
    }
   ],
   "source": [
    "c[0]"
   ]
  },
  {
   "cell_type": "code",
   "execution_count": null,
   "metadata": {
    "colab": {
     "base_uri": "https://localhost:8080/",
     "height": 51
    },
    "colab_type": "code",
    "executionInfo": {
     "elapsed": 725,
     "status": "ok",
     "timestamp": 1572614695563,
     "user": {
      "displayName": "anil patidar",
      "photoUrl": "https://lh3.googleusercontent.com/a-/AAuE7mBOpNM26lFln0sQCl4yOtCwHeImpsg3tBaiaNYFrkw=s64",
      "userId": "09103336182194663163"
     },
     "user_tz": -330
    },
    "id": "d4eiExMSI7GX",
    "outputId": "40ff5dfc-f9c8-4768-d40e-48fae1dc32ff"
   },
   "outputs": [
    {
     "data": {
      "text/plain": [
       "tensor([[3, 4, 5],\n",
       "        [6, 7, 8]])"
      ]
     },
     "execution_count": 45,
     "metadata": {
      "tags": []
     },
     "output_type": "execute_result"
    }
   ],
   "source": [
    "c[1:]"
   ]
  },
  {
   "cell_type": "code",
   "execution_count": null,
   "metadata": {
    "colab": {
     "base_uri": "https://localhost:8080/",
     "height": 34
    },
    "colab_type": "code",
    "executionInfo": {
     "elapsed": 725,
     "status": "ok",
     "timestamp": 1572614707585,
     "user": {
      "displayName": "anil patidar",
      "photoUrl": "https://lh3.googleusercontent.com/a-/AAuE7mBOpNM26lFln0sQCl4yOtCwHeImpsg3tBaiaNYFrkw=s64",
      "userId": "09103336182194663163"
     },
     "user_tz": -330
    },
    "id": "UmPrThFoI-bD",
    "outputId": "64174956-d1f4-4eab-cf71-3f1de77c42fd"
   },
   "outputs": [
    {
     "data": {
      "text/plain": [
       "tensor([[0, 1, 2]])"
      ]
     },
     "execution_count": 47,
     "metadata": {
      "tags": []
     },
     "output_type": "execute_result"
    }
   ],
   "source": [
    "c[:1]"
   ]
  },
  {
   "cell_type": "code",
   "execution_count": null,
   "metadata": {
    "colab": {
     "base_uri": "https://localhost:8080/",
     "height": 34
    },
    "colab_type": "code",
    "executionInfo": {
     "elapsed": 721,
     "status": "ok",
     "timestamp": 1572614725444,
     "user": {
      "displayName": "anil patidar",
      "photoUrl": "https://lh3.googleusercontent.com/a-/AAuE7mBOpNM26lFln0sQCl4yOtCwHeImpsg3tBaiaNYFrkw=s64",
      "userId": "09103336182194663163"
     },
     "user_tz": -330
    },
    "id": "5qL5ohcGJBXM",
    "outputId": "bae96d0f-5666-433c-d63f-d2b01210d54b"
   },
   "outputs": [
    {
     "data": {
      "text/plain": [
       "tensor([[6, 7, 8]])"
      ]
     },
     "execution_count": 49,
     "metadata": {
      "tags": []
     },
     "output_type": "execute_result"
    }
   ],
   "source": [
    "c[-1:5]"
   ]
  },
  {
   "cell_type": "code",
   "execution_count": null,
   "metadata": {
    "colab": {
     "base_uri": "https://localhost:8080/",
     "height": 68
    },
    "colab_type": "code",
    "executionInfo": {
     "elapsed": 816,
     "status": "ok",
     "timestamp": 1572614748013,
     "user": {
      "displayName": "anil patidar",
      "photoUrl": "https://lh3.googleusercontent.com/a-/AAuE7mBOpNM26lFln0sQCl4yOtCwHeImpsg3tBaiaNYFrkw=s64",
      "userId": "09103336182194663163"
     },
     "user_tz": -330
    },
    "id": "ovG-B2X-JFtx",
    "outputId": "353acf1f-7cd0-4f47-b39f-a9724baa40d5"
   },
   "outputs": [
    {
     "data": {
      "text/plain": [
       "tensor([[ True, False,  True],\n",
       "        [ True,  True,  True],\n",
       "        [ True,  True,  True]])"
      ]
     },
     "execution_count": 51,
     "metadata": {
      "tags": []
     },
     "output_type": "execute_result"
    }
   ],
   "source": [
    "a!=c"
   ]
  },
  {
   "cell_type": "code",
   "execution_count": null,
   "metadata": {
    "colab": {
     "base_uri": "https://localhost:8080/",
     "height": 68
    },
    "colab_type": "code",
    "executionInfo": {
     "elapsed": 729,
     "status": "ok",
     "timestamp": 1572614769220,
     "user": {
      "displayName": "anil patidar",
      "photoUrl": "https://lh3.googleusercontent.com/a-/AAuE7mBOpNM26lFln0sQCl4yOtCwHeImpsg3tBaiaNYFrkw=s64",
      "userId": "09103336182194663163"
     },
     "user_tz": -330
    },
    "id": "AuJ2WNXhJLMs",
    "outputId": "6edd8beb-a525-4e35-f0e9-1a586ebc0cef"
   },
   "outputs": [
    {
     "data": {
      "text/plain": [
       "tensor([[False,  True, False],\n",
       "        [False, False, False],\n",
       "        [False, False, False]])"
      ]
     },
     "execution_count": 53,
     "metadata": {
      "tags": []
     },
     "output_type": "execute_result"
    }
   ],
   "source": [
    "a==c"
   ]
  },
  {
   "cell_type": "code",
   "execution_count": null,
   "metadata": {
    "colab": {
     "base_uri": "https://localhost:8080/",
     "height": 68
    },
    "colab_type": "code",
    "executionInfo": {
     "elapsed": 605,
     "status": "ok",
     "timestamp": 1572614774410,
     "user": {
      "displayName": "anil patidar",
      "photoUrl": "https://lh3.googleusercontent.com/a-/AAuE7mBOpNM26lFln0sQCl4yOtCwHeImpsg3tBaiaNYFrkw=s64",
      "userId": "09103336182194663163"
     },
     "user_tz": -330
    },
    "id": "W6Zb_qDoJQX9",
    "outputId": "94d8a9b4-de86-4f7f-d028-95af30707fe7"
   },
   "outputs": [
    {
     "data": {
      "text/plain": [
       "tensor([[False, False,  True],\n",
       "        [ True,  True,  True],\n",
       "        [ True,  True,  True]])"
      ]
     },
     "execution_count": 55,
     "metadata": {
      "tags": []
     },
     "output_type": "execute_result"
    }
   ],
   "source": [
    "a<c"
   ]
  },
  {
   "cell_type": "code",
   "execution_count": null,
   "metadata": {
    "colab": {
     "base_uri": "https://localhost:8080/",
     "height": 68
    },
    "colab_type": "code",
    "executionInfo": {
     "elapsed": 831,
     "status": "ok",
     "timestamp": 1572614782096,
     "user": {
      "displayName": "anil patidar",
      "photoUrl": "https://lh3.googleusercontent.com/a-/AAuE7mBOpNM26lFln0sQCl4yOtCwHeImpsg3tBaiaNYFrkw=s64",
      "userId": "09103336182194663163"
     },
     "user_tz": -330
    },
    "id": "kfZNZQhkJRto",
    "outputId": "7afa260f-be89-47b1-b6f4-48bb9a180ad0"
   },
   "outputs": [
    {
     "data": {
      "text/plain": [
       "tensor([[ True, False, False],\n",
       "        [False, False, False],\n",
       "        [False, False, False]])"
      ]
     },
     "execution_count": 57,
     "metadata": {
      "tags": []
     },
     "output_type": "execute_result"
    }
   ],
   "source": [
    "a>c"
   ]
  },
  {
   "cell_type": "code",
   "execution_count": null,
   "metadata": {
    "colab": {
     "base_uri": "https://localhost:8080/",
     "height": 34
    },
    "colab_type": "code",
    "executionInfo": {
     "elapsed": 855,
     "status": "ok",
     "timestamp": 1572614848625,
     "user": {
      "displayName": "anil patidar",
      "photoUrl": "https://lh3.googleusercontent.com/a-/AAuE7mBOpNM26lFln0sQCl4yOtCwHeImpsg3tBaiaNYFrkw=s64",
      "userId": "09103336182194663163"
     },
     "user_tz": -330
    },
    "id": "dTjTVmbLJTgT",
    "outputId": "fff1a2a2-81dd-416d-fd6b-022d452ebf43"
   },
   "outputs": [
    {
     "data": {
      "text/plain": [
       "tensor(10)"
      ]
     },
     "execution_count": 61,
     "metadata": {
      "tags": []
     },
     "output_type": "execute_result"
    }
   ],
   "source": [
    "a=t.tensor(10)\n",
    "a"
   ]
  },
  {
   "cell_type": "code",
   "execution_count": null,
   "metadata": {
    "colab": {
     "base_uri": "https://localhost:8080/",
     "height": 68
    },
    "colab_type": "code",
    "executionInfo": {
     "elapsed": 728,
     "status": "ok",
     "timestamp": 1572614934336,
     "user": {
      "displayName": "anil patidar",
      "photoUrl": "https://lh3.googleusercontent.com/a-/AAuE7mBOpNM26lFln0sQCl4yOtCwHeImpsg3tBaiaNYFrkw=s64",
      "userId": "09103336182194663163"
     },
     "user_tz": -330
    },
    "id": "xFQ581tgJjvw",
    "outputId": "200bf548-7235-4192-a203-3f0175a64037"
   },
   "outputs": [
    {
     "data": {
      "text/plain": [
       "tensor([[1, 2, 3],\n",
       "        [4, 5, 6],\n",
       "        [7, 8, 9]])"
      ]
     },
     "execution_count": 63,
     "metadata": {
      "tags": []
     },
     "output_type": "execute_result"
    }
   ],
   "source": [
    "b=t.tensor([[1,2,3],[4,5,6],[7,8,9]])\n",
    "b"
   ]
  },
  {
   "cell_type": "code",
   "execution_count": null,
   "metadata": {
    "colab": {
     "base_uri": "https://localhost:8080/",
     "height": 34
    },
    "colab_type": "code",
    "executionInfo": {
     "elapsed": 747,
     "status": "ok",
     "timestamp": 1572614946973,
     "user": {
      "displayName": "anil patidar",
      "photoUrl": "https://lh3.googleusercontent.com/a-/AAuE7mBOpNM26lFln0sQCl4yOtCwHeImpsg3tBaiaNYFrkw=s64",
      "userId": "09103336182194663163"
     },
     "user_tz": -330
    },
    "id": "Ogfo96-VJ4tr",
    "outputId": "8b603b56-4b40-437b-90f1-7193b5c0ddb4"
   },
   "outputs": [
    {
     "data": {
      "text/plain": [
       "torch.int64"
      ]
     },
     "execution_count": 65,
     "metadata": {
      "tags": []
     },
     "output_type": "execute_result"
    }
   ],
   "source": [
    "b.dtype"
   ]
  },
  {
   "cell_type": "markdown",
   "metadata": {
    "colab_type": "text",
    "id": "tAkH0dW_KCVM"
   },
   "source": [
    "# Scalar"
   ]
  },
  {
   "cell_type": "code",
   "execution_count": null,
   "metadata": {
    "colab": {
     "base_uri": "https://localhost:8080/",
     "height": 34
    },
    "colab_type": "code",
    "executionInfo": {
     "elapsed": 871,
     "status": "ok",
     "timestamp": 1572615079056,
     "user": {
      "displayName": "anil patidar",
      "photoUrl": "https://lh3.googleusercontent.com/a-/AAuE7mBOpNM26lFln0sQCl4yOtCwHeImpsg3tBaiaNYFrkw=s64",
      "userId": "09103336182194663163"
     },
     "user_tz": -330
    },
    "id": "E1aoZowdJ7zn",
    "outputId": "78f4da78-13cf-4f40-9db4-d656b3ba4f27"
   },
   "outputs": [
    {
     "data": {
      "text/plain": [
       "tensor(12)"
      ]
     },
     "execution_count": 72,
     "metadata": {
      "tags": []
     },
     "output_type": "execute_result"
    }
   ],
   "source": [
    "a=t.tensor(12)\n",
    "a"
   ]
  },
  {
   "cell_type": "code",
   "execution_count": null,
   "metadata": {
    "colab": {
     "base_uri": "https://localhost:8080/",
     "height": 34
    },
    "colab_type": "code",
    "executionInfo": {
     "elapsed": 733,
     "status": "ok",
     "timestamp": 1572615084906,
     "user": {
      "displayName": "anil patidar",
      "photoUrl": "https://lh3.googleusercontent.com/a-/AAuE7mBOpNM26lFln0sQCl4yOtCwHeImpsg3tBaiaNYFrkw=s64",
      "userId": "09103336182194663163"
     },
     "user_tz": -330
    },
    "id": "SCkoFfnAKaO2",
    "outputId": "e746c287-5974-4420-a219-68b51c4c1299"
   },
   "outputs": [
    {
     "data": {
      "text/plain": [
       "0"
      ]
     },
     "execution_count": 74,
     "metadata": {
      "tags": []
     },
     "output_type": "execute_result"
    }
   ],
   "source": [
    "a.ndim"
   ]
  },
  {
   "cell_type": "code",
   "execution_count": null,
   "metadata": {
    "colab": {
     "base_uri": "https://localhost:8080/",
     "height": 34
    },
    "colab_type": "code",
    "executionInfo": {
     "elapsed": 704,
     "status": "ok",
     "timestamp": 1572615100516,
     "user": {
      "displayName": "anil patidar",
      "photoUrl": "https://lh3.googleusercontent.com/a-/AAuE7mBOpNM26lFln0sQCl4yOtCwHeImpsg3tBaiaNYFrkw=s64",
      "userId": "09103336182194663163"
     },
     "user_tz": -330
    },
    "id": "yIcQxYiQKdeS",
    "outputId": "d9799c74-cd3d-424d-cd59-f545d7ed9572"
   },
   "outputs": [
    {
     "data": {
      "text/plain": [
       "torch.Size([])"
      ]
     },
     "execution_count": 76,
     "metadata": {
      "tags": []
     },
     "output_type": "execute_result"
    }
   ],
   "source": [
    "a.shape"
   ]
  },
  {
   "cell_type": "code",
   "execution_count": null,
   "metadata": {
    "colab": {
     "base_uri": "https://localhost:8080/",
     "height": 34
    },
    "colab_type": "code",
    "executionInfo": {
     "elapsed": 1074,
     "status": "ok",
     "timestamp": 1572615103378,
     "user": {
      "displayName": "anil patidar",
      "photoUrl": "https://lh3.googleusercontent.com/a-/AAuE7mBOpNM26lFln0sQCl4yOtCwHeImpsg3tBaiaNYFrkw=s64",
      "userId": "09103336182194663163"
     },
     "user_tz": -330
    },
    "id": "WCTa-S0aKhRG",
    "outputId": "7a79d80d-f566-4f69-c558-b555a57634b2"
   },
   "outputs": [
    {
     "data": {
      "text/plain": [
       "tensor(12)"
      ]
     },
     "execution_count": 77,
     "metadata": {
      "tags": []
     },
     "output_type": "execute_result"
    }
   ],
   "source": [
    "a.data"
   ]
  },
  {
   "cell_type": "code",
   "execution_count": null,
   "metadata": {
    "colab": {
     "base_uri": "https://localhost:8080/",
     "height": 34
    },
    "colab_type": "code",
    "executionInfo": {
     "elapsed": 746,
     "status": "ok",
     "timestamp": 1572615122259,
     "user": {
      "displayName": "anil patidar",
      "photoUrl": "https://lh3.googleusercontent.com/a-/AAuE7mBOpNM26lFln0sQCl4yOtCwHeImpsg3tBaiaNYFrkw=s64",
      "userId": "09103336182194663163"
     },
     "user_tz": -330
    },
    "id": "28d281cLKiEv",
    "outputId": "063d1799-b4d3-401c-a0ce-e32360ac507a"
   },
   "outputs": [
    {
     "data": {
      "text/plain": [
       "torch.Size([])"
      ]
     },
     "execution_count": 79,
     "metadata": {
      "tags": []
     },
     "output_type": "execute_result"
    }
   ],
   "source": [
    "a.shape"
   ]
  },
  {
   "cell_type": "code",
   "execution_count": null,
   "metadata": {
    "colab": {
     "base_uri": "https://localhost:8080/",
     "height": 34
    },
    "colab_type": "code",
    "executionInfo": {
     "elapsed": 717,
     "status": "ok",
     "timestamp": 1572615207765,
     "user": {
      "displayName": "anil patidar",
      "photoUrl": "https://lh3.googleusercontent.com/a-/AAuE7mBOpNM26lFln0sQCl4yOtCwHeImpsg3tBaiaNYFrkw=s64",
      "userId": "09103336182194663163"
     },
     "user_tz": -330
    },
    "id": "BpmiJLaRKmmJ",
    "outputId": "92ddad73-bf68-4d8b-e1dd-4a42f887b332"
   },
   "outputs": [
    {
     "data": {
      "text/plain": [
       "torch.int64"
      ]
     },
     "execution_count": 81,
     "metadata": {
      "tags": []
     },
     "output_type": "execute_result"
    }
   ],
   "source": [
    "a.dtype"
   ]
  },
  {
   "cell_type": "code",
   "execution_count": null,
   "metadata": {
    "colab": {
     "base_uri": "https://localhost:8080/",
     "height": 34
    },
    "colab_type": "code",
    "executionInfo": {
     "elapsed": 940,
     "status": "ok",
     "timestamp": 1572615245921,
     "user": {
      "displayName": "anil patidar",
      "photoUrl": "https://lh3.googleusercontent.com/a-/AAuE7mBOpNM26lFln0sQCl4yOtCwHeImpsg3tBaiaNYFrkw=s64",
      "userId": "09103336182194663163"
     },
     "user_tz": -330
    },
    "id": "OuEvd1VQK7cM",
    "outputId": "e1ffb1a5-71dc-440c-cf36-e07d79b67daf"
   },
   "outputs": [
    {
     "data": {
      "text/plain": [
       "tensor([10, 20, 30])"
      ]
     },
     "execution_count": 83,
     "metadata": {
      "tags": []
     },
     "output_type": "execute_result"
    }
   ],
   "source": [
    "b=t.tensor((10,20,30))  # more than 1 value u given value as a tuple\n",
    "b"
   ]
  },
  {
   "cell_type": "code",
   "execution_count": null,
   "metadata": {
    "colab": {
     "base_uri": "https://localhost:8080/",
     "height": 51
    },
    "colab_type": "code",
    "executionInfo": {
     "elapsed": 749,
     "status": "ok",
     "timestamp": 1572615379327,
     "user": {
      "displayName": "anil patidar",
      "photoUrl": "https://lh3.googleusercontent.com/a-/AAuE7mBOpNM26lFln0sQCl4yOtCwHeImpsg3tBaiaNYFrkw=s64",
      "userId": "09103336182194663163"
     },
     "user_tz": -330
    },
    "id": "SxnN7fm8LEu2",
    "outputId": "fa7fed81-12cc-4d48-eac9-38a82f84a06d"
   },
   "outputs": [
    {
     "data": {
      "text/plain": [
       "tensor([[1, 2, 3],\n",
       "        [4, 5, 6]])"
      ]
     },
     "execution_count": 86,
     "metadata": {
      "tags": []
     },
     "output_type": "execute_result"
    }
   ],
   "source": [
    "c=t.tensor(((1,2,3),(4,5,6)))\n",
    "c"
   ]
  },
  {
   "cell_type": "code",
   "execution_count": null,
   "metadata": {
    "colab": {
     "base_uri": "https://localhost:8080/",
     "height": 51
    },
    "colab_type": "code",
    "executionInfo": {
     "elapsed": 1183,
     "status": "ok",
     "timestamp": 1572615410823,
     "user": {
      "displayName": "anil patidar",
      "photoUrl": "https://lh3.googleusercontent.com/a-/AAuE7mBOpNM26lFln0sQCl4yOtCwHeImpsg3tBaiaNYFrkw=s64",
      "userId": "09103336182194663163"
     },
     "user_tz": -330
    },
    "id": "FcQcYnYfLlWp",
    "outputId": "152f6419-92c4-413f-9bf9-af0101bb7c7c"
   },
   "outputs": [
    {
     "data": {
      "text/plain": [
       "tensor([[1, 2, 3],\n",
       "        [4, 5, 6]])"
      ]
     },
     "execution_count": 88,
     "metadata": {
      "tags": []
     },
     "output_type": "execute_result"
    }
   ],
   "source": [
    "c=t.tensor((((1,2,3),(4,5,6)))) # bracket increased but got 2D array\n",
    "c"
   ]
  },
  {
   "cell_type": "code",
   "execution_count": null,
   "metadata": {
    "colab": {
     "base_uri": "https://localhost:8080/",
     "height": 34
    },
    "colab_type": "code",
    "executionInfo": {
     "elapsed": 604,
     "status": "ok",
     "timestamp": 1572615943143,
     "user": {
      "displayName": "anil patidar",
      "photoUrl": "https://lh3.googleusercontent.com/a-/AAuE7mBOpNM26lFln0sQCl4yOtCwHeImpsg3tBaiaNYFrkw=s64",
      "userId": "09103336182194663163"
     },
     "user_tz": -330
    },
    "id": "5KNb18nbLs6t",
    "outputId": "11872941-1ef4-4fa1-e15c-2ffb5c5bbcc9"
   },
   "outputs": [
    {
     "data": {
      "text/plain": [
       "tensor([10.0000, 10.5000,  1.0000])"
      ]
     },
     "execution_count": 97,
     "metadata": {
      "tags": []
     },
     "output_type": "execute_result"
    }
   ],
   "source": [
    "d=t.tensor([10,10.5,True])\n",
    "d"
   ]
  },
  {
   "cell_type": "code",
   "execution_count": null,
   "metadata": {
    "colab": {
     "base_uri": "https://localhost:8080/",
     "height": 217
    },
    "colab_type": "code",
    "executionInfo": {
     "elapsed": 1199,
     "status": "error",
     "timestamp": 1572616132074,
     "user": {
      "displayName": "anil patidar",
      "photoUrl": "https://lh3.googleusercontent.com/a-/AAuE7mBOpNM26lFln0sQCl4yOtCwHeImpsg3tBaiaNYFrkw=s64",
      "userId": "09103336182194663163"
     },
     "user_tz": -330
    },
    "id": "wfTPvRZnNvBP",
    "outputId": "bc538211-20b1-46fe-b33d-5ac36b258bb9"
   },
   "outputs": [
    {
     "ename": "TypeError",
     "evalue": "ignored",
     "output_type": "error",
     "traceback": [
      "\u001b[0;31m---------------------------------------------------------------------------\u001b[0m",
      "\u001b[0;31mTypeError\u001b[0m                                 Traceback (most recent call last)",
      "\u001b[0;32m<ipython-input-104-8675e825f9e4>\u001b[0m in \u001b[0;36m<module>\u001b[0;34m()\u001b[0m\n\u001b[0;32m----> 1\u001b[0;31m \u001b[0me\u001b[0m\u001b[0;34m=\u001b[0m\u001b[0mt\u001b[0m\u001b[0;34m.\u001b[0m\u001b[0mtensor\u001b[0m\u001b[0;34m(\u001b[0m\u001b[0;34m(\u001b[0m\u001b[0;34m\"hello\"\u001b[0m\u001b[0;34m)\u001b[0m\u001b[0;34m)\u001b[0m\u001b[0;34m\u001b[0m\u001b[0;34m\u001b[0m\u001b[0m\n\u001b[0m\u001b[1;32m      2\u001b[0m \u001b[0;31m# e=t.tensor([\"hi\"])\u001b[0m\u001b[0;34m\u001b[0m\u001b[0;34m\u001b[0m\u001b[0;34m\u001b[0m\u001b[0m\n\u001b[1;32m      3\u001b[0m \u001b[0me\u001b[0m\u001b[0;34m\u001b[0m\u001b[0;34m\u001b[0m\u001b[0m\n",
      "\u001b[0;31mTypeError\u001b[0m: new(): invalid data type 'str'"
     ]
    }
   ],
   "source": [
    "e=t.tensor((\"hello\"))\n",
    "# e=t.tensor([\"hi\"])\n",
    "e"
   ]
  },
  {
   "cell_type": "code",
   "execution_count": null,
   "metadata": {
    "colab": {
     "base_uri": "https://localhost:8080/",
     "height": 200
    },
    "colab_type": "code",
    "executionInfo": {
     "elapsed": 722,
     "status": "error",
     "timestamp": 1572616259836,
     "user": {
      "displayName": "anil patidar",
      "photoUrl": "https://lh3.googleusercontent.com/a-/AAuE7mBOpNM26lFln0sQCl4yOtCwHeImpsg3tBaiaNYFrkw=s64",
      "userId": "09103336182194663163"
     },
     "user_tz": -330
    },
    "id": "6zkLAEd-Oc-D",
    "outputId": "eb2317c2-0dcb-4db2-d6e8-c9c4e972c303"
   },
   "outputs": [
    {
     "ename": "TypeError",
     "evalue": "ignored",
     "output_type": "error",
     "traceback": [
      "\u001b[0;31m---------------------------------------------------------------------------\u001b[0m",
      "\u001b[0;31mTypeError\u001b[0m                                 Traceback (most recent call last)",
      "\u001b[0;32m<ipython-input-106-976ed7d196f1>\u001b[0m in \u001b[0;36m<module>\u001b[0;34m()\u001b[0m\n\u001b[0;32m----> 1\u001b[0;31m \u001b[0ma\u001b[0m\u001b[0;34m=\u001b[0m\u001b[0mt\u001b[0m\u001b[0;34m.\u001b[0m\u001b[0mtensor\u001b[0m\u001b[0;34m(\u001b[0m\u001b[0;34m[\u001b[0m\u001b[0;34m[\u001b[0m\u001b[0;36m1\u001b[0m\u001b[0;34m,\u001b[0m\u001b[0;36m2\u001b[0m\u001b[0;34m]\u001b[0m\u001b[0;34m,\u001b[0m\u001b[0;36m3\u001b[0m\u001b[0;34m]\u001b[0m\u001b[0;34m)\u001b[0m\u001b[0;34m\u001b[0m\u001b[0;34m\u001b[0m\u001b[0m\n\u001b[0m\u001b[1;32m      2\u001b[0m \u001b[0ma\u001b[0m\u001b[0;34m\u001b[0m\u001b[0;34m\u001b[0m\u001b[0m\n",
      "\u001b[0;31mTypeError\u001b[0m: not a sequence"
     ]
    }
   ],
   "source": [
    "a=t.tensor([[1,2],3])\n",
    "a"
   ]
  },
  {
   "cell_type": "code",
   "execution_count": null,
   "metadata": {
    "colab": {
     "base_uri": "https://localhost:8080/",
     "height": 200
    },
    "colab_type": "code",
    "executionInfo": {
     "elapsed": 710,
     "status": "error",
     "timestamp": 1572616312231,
     "user": {
      "displayName": "anil patidar",
      "photoUrl": "https://lh3.googleusercontent.com/a-/AAuE7mBOpNM26lFln0sQCl4yOtCwHeImpsg3tBaiaNYFrkw=s64",
      "userId": "09103336182194663163"
     },
     "user_tz": -330
    },
    "id": "D5fZ8P2EO8T-",
    "outputId": "8c40de52-fe09-4199-f57a-edebf5123fc4"
   },
   "outputs": [
    {
     "ename": "AttributeError",
     "evalue": "ignored",
     "output_type": "error",
     "traceback": [
      "\u001b[0;31m---------------------------------------------------------------------------\u001b[0m",
      "\u001b[0;31mAttributeError\u001b[0m                            Traceback (most recent call last)",
      "\u001b[0;32m<ipython-input-108-4d4a1d8c7319>\u001b[0m in \u001b[0;36m<module>\u001b[0;34m()\u001b[0m\n\u001b[1;32m      1\u001b[0m \u001b[0ma\u001b[0m\u001b[0;34m=\u001b[0m\u001b[0mt\u001b[0m\u001b[0;34m.\u001b[0m\u001b[0mtensor\u001b[0m\u001b[0;34m(\u001b[0m\u001b[0;34m[\u001b[0m\u001b[0;36m10\u001b[0m\u001b[0;34m,\u001b[0m\u001b[0;36m20\u001b[0m\u001b[0;34m]\u001b[0m\u001b[0;34m)\u001b[0m\u001b[0;34m\u001b[0m\u001b[0;34m\u001b[0m\u001b[0m\n\u001b[0;32m----> 2\u001b[0;31m \u001b[0mprint\u001b[0m\u001b[0;34m(\u001b[0m\u001b[0ma\u001b[0m\u001b[0;34m.\u001b[0m\u001b[0mastype\u001b[0m\u001b[0;34m(\u001b[0m\u001b[0mfloat\u001b[0m\u001b[0;34m)\u001b[0m\u001b[0;34m)\u001b[0m\u001b[0;34m\u001b[0m\u001b[0;34m\u001b[0m\u001b[0m\n\u001b[0m",
      "\u001b[0;31mAttributeError\u001b[0m: 'Tensor' object has no attribute 'astype'"
     ]
    }
   ],
   "source": [
    "a=t.tensor([10,20])\n",
    "print(a.astype(float))"
   ]
  },
  {
   "cell_type": "markdown",
   "metadata": {
    "colab_type": "text",
    "id": "dJX98wZDPMqu"
   },
   "source": [
    "# vector or 1D tensor"
   ]
  },
  {
   "cell_type": "code",
   "execution_count": null,
   "metadata": {
    "colab": {
     "base_uri": "https://localhost:8080/",
     "height": 34
    },
    "colab_type": "code",
    "executionInfo": {
     "elapsed": 2707,
     "status": "ok",
     "timestamp": 1572902536491,
     "user": {
      "displayName": "anil patidar",
      "photoUrl": "https://lh3.googleusercontent.com/a-/AAuE7mBOpNM26lFln0sQCl4yOtCwHeImpsg3tBaiaNYFrkw=s64",
      "userId": "09103336182194663163"
     },
     "user_tz": -330
    },
    "id": "x6BOd7c4PJHV",
    "outputId": "74c0198f-b033-4223-87fa-ec5c0f0a41a0"
   },
   "outputs": [
    {
     "data": {
      "text/plain": [
       "tensor([1, 2, 3])"
      ]
     },
     "execution_count": 4,
     "metadata": {
      "tags": []
     },
     "output_type": "execute_result"
    }
   ],
   "source": [
    "a=t.tensor([1,2,3])\n",
    "a"
   ]
  },
  {
   "cell_type": "code",
   "execution_count": null,
   "metadata": {
    "colab": {
     "base_uri": "https://localhost:8080/",
     "height": 34
    },
    "colab_type": "code",
    "executionInfo": {
     "elapsed": 1346,
     "status": "ok",
     "timestamp": 1572902541320,
     "user": {
      "displayName": "anil patidar",
      "photoUrl": "https://lh3.googleusercontent.com/a-/AAuE7mBOpNM26lFln0sQCl4yOtCwHeImpsg3tBaiaNYFrkw=s64",
      "userId": "09103336182194663163"
     },
     "user_tz": -330
    },
    "id": "CWf5FK7NPTJ1",
    "outputId": "243921af-abbf-4e87-8437-f78a26427e30"
   },
   "outputs": [
    {
     "data": {
      "text/plain": [
       "1"
      ]
     },
     "execution_count": 5,
     "metadata": {
      "tags": []
     },
     "output_type": "execute_result"
    }
   ],
   "source": [
    "a.ndim"
   ]
  },
  {
   "cell_type": "code",
   "execution_count": null,
   "metadata": {
    "colab": {
     "base_uri": "https://localhost:8080/",
     "height": 34
    },
    "colab_type": "code",
    "executionInfo": {
     "elapsed": 1144,
     "status": "ok",
     "timestamp": 1572902555932,
     "user": {
      "displayName": "anil patidar",
      "photoUrl": "https://lh3.googleusercontent.com/a-/AAuE7mBOpNM26lFln0sQCl4yOtCwHeImpsg3tBaiaNYFrkw=s64",
      "userId": "09103336182194663163"
     },
     "user_tz": -330
    },
    "id": "c_7TQjA6PaHX",
    "outputId": "4b95e050-d109-496e-be09-4e3e88bc806a"
   },
   "outputs": [
    {
     "data": {
      "text/plain": [
       "tensor([1, 2, 3])"
      ]
     },
     "execution_count": 6,
     "metadata": {
      "tags": []
     },
     "output_type": "execute_result"
    }
   ],
   "source": [
    "a.data"
   ]
  },
  {
   "cell_type": "code",
   "execution_count": null,
   "metadata": {
    "colab": {
     "base_uri": "https://localhost:8080/",
     "height": 200
    },
    "colab_type": "code",
    "executionInfo": {
     "elapsed": 883,
     "status": "error",
     "timestamp": 1572616446581,
     "user": {
      "displayName": "anil patidar",
      "photoUrl": "https://lh3.googleusercontent.com/a-/AAuE7mBOpNM26lFln0sQCl4yOtCwHeImpsg3tBaiaNYFrkw=s64",
      "userId": "09103336182194663163"
     },
     "user_tz": -330
    },
    "id": "h3LdAzYQPikK",
    "outputId": "30b9779f-d5d6-41db-8980-5a0793e6c309"
   },
   "outputs": [
    {
     "ename": "RuntimeError",
     "evalue": "ignored",
     "output_type": "error",
     "traceback": [
      "\u001b[0;31m---------------------------------------------------------------------------\u001b[0m",
      "\u001b[0;31mRuntimeError\u001b[0m                              Traceback (most recent call last)",
      "\u001b[0;32m<ipython-input-116-b3c6a746f6f5>\u001b[0m in \u001b[0;36m<module>\u001b[0;34m()\u001b[0m\n\u001b[0;32m----> 1\u001b[0;31m \u001b[0mb\u001b[0m\u001b[0;34m=\u001b[0m\u001b[0mt\u001b[0m\u001b[0;34m.\u001b[0m\u001b[0mtensor\u001b[0m\u001b[0;34m(\u001b[0m\u001b[0;34m{\u001b[0m\u001b[0;36m1\u001b[0m\u001b[0;34m,\u001b[0m\u001b[0;36m2\u001b[0m\u001b[0;34m,\u001b[0m\u001b[0;36m3\u001b[0m\u001b[0;34m}\u001b[0m\u001b[0;34m)\u001b[0m\u001b[0;34m\u001b[0m\u001b[0;34m\u001b[0m\u001b[0m\n\u001b[0m\u001b[1;32m      2\u001b[0m \u001b[0mb\u001b[0m\u001b[0;34m\u001b[0m\u001b[0;34m\u001b[0m\u001b[0m\n",
      "\u001b[0;31mRuntimeError\u001b[0m: Could not infer dtype of set"
     ]
    }
   ],
   "source": [
    "b=t.tensor({1,2,3})\n",
    "b"
   ]
  },
  {
   "cell_type": "markdown",
   "metadata": {
    "colab_type": "text",
    "id": "yzZAuSUAToNf"
   },
   "source": [
    "# 2D tensor"
   ]
  },
  {
   "cell_type": "code",
   "execution_count": null,
   "metadata": {
    "colab": {
     "base_uri": "https://localhost:8080/",
     "height": 34
    },
    "colab_type": "code",
    "executionInfo": {
     "elapsed": 727,
     "status": "ok",
     "timestamp": 1572616650555,
     "user": {
      "displayName": "anil patidar",
      "photoUrl": "https://lh3.googleusercontent.com/a-/AAuE7mBOpNM26lFln0sQCl4yOtCwHeImpsg3tBaiaNYFrkw=s64",
      "userId": "09103336182194663163"
     },
     "user_tz": -330
    },
    "id": "7s8Lpf9LPp3o",
    "outputId": "c287acb8-1f51-4897-dad2-c8b6f080b210"
   },
   "outputs": [
    {
     "data": {
      "text/plain": [
       "tensor([[1, 2, 3]])"
      ]
     },
     "execution_count": 118,
     "metadata": {
      "tags": []
     },
     "output_type": "execute_result"
    }
   ],
   "source": [
    "c=t.tensor([(1,2,3)])\n",
    "c"
   ]
  },
  {
   "cell_type": "code",
   "execution_count": null,
   "metadata": {
    "colab": {
     "base_uri": "https://localhost:8080/",
     "height": 68
    },
    "colab_type": "code",
    "executionInfo": {
     "elapsed": 940,
     "status": "ok",
     "timestamp": 1572616733234,
     "user": {
      "displayName": "anil patidar",
      "photoUrl": "https://lh3.googleusercontent.com/a-/AAuE7mBOpNM26lFln0sQCl4yOtCwHeImpsg3tBaiaNYFrkw=s64",
      "userId": "09103336182194663163"
     },
     "user_tz": -330
    },
    "id": "_P1Ss6TfQbuD",
    "outputId": "f2529cbf-1f54-44e9-f42a-dbb32f64c183"
   },
   "outputs": [
    {
     "name": "stdout",
     "output_type": "stream",
     "text": [
      "tensor([[1, 2, 1],\n",
      "        [4, 5, 6]])\n"
     ]
    },
    {
     "data": {
      "text/plain": [
       "torch.int64"
      ]
     },
     "execution_count": 124,
     "metadata": {
      "tags": []
     },
     "output_type": "execute_result"
    }
   ],
   "source": [
    "c=t.tensor([(1,2,True),(4,5,6)])\n",
    "print(c)\n",
    "c.dtype\n",
    "# same as t.tensor([[1,2,3],[4,5,6]])"
   ]
  },
  {
   "cell_type": "code",
   "execution_count": null,
   "metadata": {
    "colab": {
     "base_uri": "https://localhost:8080/",
     "height": 68
    },
    "colab_type": "code",
    "executionInfo": {
     "elapsed": 980,
     "status": "ok",
     "timestamp": 1572616754714,
     "user": {
      "displayName": "anil patidar",
      "photoUrl": "https://lh3.googleusercontent.com/a-/AAuE7mBOpNM26lFln0sQCl4yOtCwHeImpsg3tBaiaNYFrkw=s64",
      "userId": "09103336182194663163"
     },
     "user_tz": -330
    },
    "id": "ZT3IIw-6Qjye",
    "outputId": "9d44eeea-3928-49ce-e7b3-499da7b09d08"
   },
   "outputs": [
    {
     "name": "stdout",
     "output_type": "stream",
     "text": [
      "tensor([[1.0000, 2.0000, 3.1500],\n",
      "        [4.0000, 5.0000, 6.0000]])\n"
     ]
    },
    {
     "data": {
      "text/plain": [
       "torch.float32"
      ]
     },
     "execution_count": 126,
     "metadata": {
      "tags": []
     },
     "output_type": "execute_result"
    }
   ],
   "source": [
    "c=t.tensor([(1,2,3.15),(4,5,6)])\n",
    "print(c)\n",
    "c.dtype\n",
    "# same as t.tensor([[1,2,3],[4,5,6]])"
   ]
  },
  {
   "cell_type": "code",
   "execution_count": null,
   "metadata": {
    "colab": {
     "base_uri": "https://localhost:8080/",
     "height": 85
    },
    "colab_type": "code",
    "executionInfo": {
     "elapsed": 967,
     "status": "ok",
     "timestamp": 1572616914383,
     "user": {
      "displayName": "anil patidar",
      "photoUrl": "https://lh3.googleusercontent.com/a-/AAuE7mBOpNM26lFln0sQCl4yOtCwHeImpsg3tBaiaNYFrkw=s64",
      "userId": "09103336182194663163"
     },
     "user_tz": -330
    },
    "id": "jx5qbxW4Q1EB",
    "outputId": "3af7a933-275e-4cf5-f680-26d9aa5cd4f7"
   },
   "outputs": [
    {
     "name": "stdout",
     "output_type": "stream",
     "text": [
      "tensor([[1, 2, 3],\n",
      "        [4, 5, 6]])\n",
      "torch.Size([2, 3])\n"
     ]
    },
    {
     "data": {
      "text/plain": [
       "torch.int64"
      ]
     },
     "execution_count": 138,
     "metadata": {
      "tags": []
     },
     "output_type": "execute_result"
    }
   ],
   "source": [
    "c=t.tensor([(1,2,3),(4,5,6)])\n",
    "print(c)\n",
    "print(c.size())\n",
    "c.dtype\n",
    "# same as t.tensor([[1,2,3],[4,5,6]])"
   ]
  },
  {
   "cell_type": "code",
   "execution_count": null,
   "metadata": {
    "colab": {
     "base_uri": "https://localhost:8080/",
     "height": 234
    },
    "colab_type": "code",
    "executionInfo": {
     "elapsed": 1091,
     "status": "error",
     "timestamp": 1572616876688,
     "user": {
      "displayName": "anil patidar",
      "photoUrl": "https://lh3.googleusercontent.com/a-/AAuE7mBOpNM26lFln0sQCl4yOtCwHeImpsg3tBaiaNYFrkw=s64",
      "userId": "09103336182194663163"
     },
     "user_tz": -330
    },
    "id": "rYV60ZBnQ3OI",
    "outputId": "e96bdfd2-579d-4f51-f953-a3ad30a0205c"
   },
   "outputs": [
    {
     "ename": "RuntimeError",
     "evalue": "ignored",
     "output_type": "error",
     "traceback": [
      "\u001b[0;31m---------------------------------------------------------------------------\u001b[0m",
      "\u001b[0;31mRuntimeError\u001b[0m                              Traceback (most recent call last)",
      "\u001b[0;32m<ipython-input-136-3ee5ae9f1092>\u001b[0m in \u001b[0;36m<module>\u001b[0;34m()\u001b[0m\n\u001b[0;32m----> 1\u001b[0;31m \u001b[0ma\u001b[0m\u001b[0;34m=\u001b[0m\u001b[0mt\u001b[0m\u001b[0;34m.\u001b[0m\u001b[0mtensor\u001b[0m\u001b[0;34m(\u001b[0m\u001b[0;34m[\u001b[0m\u001b[0;36m2\u001b[0m\u001b[0;34m+\u001b[0m\u001b[0;36m3j\u001b[0m\u001b[0;34m]\u001b[0m\u001b[0;34m)\u001b[0m\u001b[0;34m\u001b[0m\u001b[0;34m\u001b[0m\u001b[0m\n\u001b[0m\u001b[1;32m      2\u001b[0m \u001b[0mb\u001b[0m\u001b[0;34m=\u001b[0m\u001b[0mt\u001b[0m\u001b[0;34m.\u001b[0m\u001b[0mtensor\u001b[0m\u001b[0;34m(\u001b[0m\u001b[0;34m[\u001b[0m\u001b[0;34m\"hi\"\u001b[0m\u001b[0;34m,\u001b[0m\u001b[0;36m1\u001b[0m\u001b[0;34m,\u001b[0m\u001b[0;36m2\u001b[0m\u001b[0;34m]\u001b[0m\u001b[0;34m)\u001b[0m\u001b[0;34m\u001b[0m\u001b[0;34m\u001b[0m\u001b[0m\n\u001b[1;32m      3\u001b[0m \u001b[0mprint\u001b[0m\u001b[0;34m(\u001b[0m\u001b[0ma\u001b[0m\u001b[0;34m)\u001b[0m\u001b[0;34m\u001b[0m\u001b[0;34m\u001b[0m\u001b[0m\n\u001b[1;32m      4\u001b[0m \u001b[0mprint\u001b[0m\u001b[0;34m(\u001b[0m\u001b[0mb\u001b[0m\u001b[0;34m)\u001b[0m\u001b[0;34m\u001b[0m\u001b[0;34m\u001b[0m\u001b[0m\n",
      "\u001b[0;31mRuntimeError\u001b[0m: Could not infer dtype of complex"
     ]
    }
   ],
   "source": [
    "a=t.tensor([2+3j])   # torch not support complex n string\n",
    "b=t.tensor([\"hi\",1,2])\n",
    "print(a)\n",
    "print(b)"
   ]
  },
  {
   "cell_type": "code",
   "execution_count": null,
   "metadata": {
    "colab": {
     "base_uri": "https://localhost:8080/",
     "height": 200
    },
    "colab_type": "code",
    "executionInfo": {
     "elapsed": 950,
     "status": "error",
     "timestamp": 1572617098247,
     "user": {
      "displayName": "anil patidar",
      "photoUrl": "https://lh3.googleusercontent.com/a-/AAuE7mBOpNM26lFln0sQCl4yOtCwHeImpsg3tBaiaNYFrkw=s64",
      "userId": "09103336182194663163"
     },
     "user_tz": -330
    },
    "id": "q-EVOGHXRNBM",
    "outputId": "4d975eee-ea97-40fb-9748-d71bb63b3d2c"
   },
   "outputs": [
    {
     "ename": "RuntimeError",
     "evalue": "ignored",
     "output_type": "error",
     "traceback": [
      "\u001b[0;31m---------------------------------------------------------------------------\u001b[0m",
      "\u001b[0;31mRuntimeError\u001b[0m                              Traceback (most recent call last)",
      "\u001b[0;32m<ipython-input-144-99a1fd7ed534>\u001b[0m in \u001b[0;36m<module>\u001b[0;34m()\u001b[0m\n\u001b[0;32m----> 1\u001b[0;31m \u001b[0ma\u001b[0m\u001b[0;34m=\u001b[0m\u001b[0mt\u001b[0m\u001b[0;34m.\u001b[0m\u001b[0mtensor\u001b[0m\u001b[0;34m(\u001b[0m\u001b[0;34m[\u001b[0m\u001b[0;34m[\u001b[0m\u001b[0;36m1\u001b[0m\u001b[0;34m,\u001b[0m\u001b[0;36m2\u001b[0m\u001b[0;34m]\u001b[0m\u001b[0;34m,\u001b[0m\u001b[0;34m[\u001b[0m\u001b[0;36m3\u001b[0m\u001b[0;34m,\u001b[0m\u001b[0;36m4\u001b[0m\u001b[0;34m]\u001b[0m\u001b[0;34m]\u001b[0m\u001b[0;34m,\u001b[0m\u001b[0mdtype\u001b[0m\u001b[0;34m=\u001b[0m\u001b[0mt\u001b[0m\u001b[0;34m.\u001b[0m\u001b[0mcomplex64\u001b[0m\u001b[0;34m)\u001b[0m\u001b[0;34m\u001b[0m\u001b[0;34m\u001b[0m\u001b[0m\n\u001b[0m\u001b[1;32m      2\u001b[0m \u001b[0ma\u001b[0m     \u001b[0;31m# complex not working in tensor type\u001b[0m\u001b[0;34m\u001b[0m\u001b[0;34m\u001b[0m\u001b[0m\n",
      "\u001b[0;31mRuntimeError\u001b[0m: No function is registered for schema aten::empty.memory_format(int[] size, *, ScalarType? dtype=None, Layout? layout=None, Device? device=None, bool? pin_memory=None, MemoryFormat? memory_format=None) -> Tensor on tensor type ComplexCPUTensorId; available functions are CPUTensorId, CUDATensorId, MkldnnCPUTensorId, SparseCPUTensorId, SparseCUDATensorId, VariableTensorId"
     ]
    }
   ],
   "source": [
    "a=t.tensor([[1,2],[3,4]],dtype=t.complex64)\n",
    "a     # complex not working in tensor type"
   ]
  },
  {
   "cell_type": "code",
   "execution_count": null,
   "metadata": {
    "colab": {
     "base_uri": "https://localhost:8080/",
     "height": 51
    },
    "colab_type": "code",
    "executionInfo": {
     "elapsed": 709,
     "status": "ok",
     "timestamp": 1572617126360,
     "user": {
      "displayName": "anil patidar",
      "photoUrl": "https://lh3.googleusercontent.com/a-/AAuE7mBOpNM26lFln0sQCl4yOtCwHeImpsg3tBaiaNYFrkw=s64",
      "userId": "09103336182194663163"
     },
     "user_tz": -330
    },
    "id": "9ZzQRDs_SI9L",
    "outputId": "49a12bba-7f26-495e-dcba-e0c0fbadee8d"
   },
   "outputs": [
    {
     "data": {
      "text/plain": [
       "tensor([[1, 2],\n",
       "        [3, 4]])"
      ]
     },
     "execution_count": 146,
     "metadata": {
      "tags": []
     },
     "output_type": "execute_result"
    }
   ],
   "source": [
    "a=t.tensor([[1,2],[3,4]],dtype=t.long)\n",
    "a     # complex not working in tensor type"
   ]
  },
  {
   "cell_type": "code",
   "execution_count": null,
   "metadata": {
    "colab": {
     "base_uri": "https://localhost:8080/",
     "height": 51
    },
    "colab_type": "code",
    "executionInfo": {
     "elapsed": 727,
     "status": "ok",
     "timestamp": 1572617135703,
     "user": {
      "displayName": "anil patidar",
      "photoUrl": "https://lh3.googleusercontent.com/a-/AAuE7mBOpNM26lFln0sQCl4yOtCwHeImpsg3tBaiaNYFrkw=s64",
      "userId": "09103336182194663163"
     },
     "user_tz": -330
    },
    "id": "VxspG5qzSP3u",
    "outputId": "c2a19b9d-459f-4002-f263-0bda8153bb2d"
   },
   "outputs": [
    {
     "data": {
      "text/plain": [
       "tensor([[True, True],\n",
       "        [True, True]])"
      ]
     },
     "execution_count": 148,
     "metadata": {
      "tags": []
     },
     "output_type": "execute_result"
    }
   ],
   "source": [
    "a=t.tensor([[1,2],[3,4]],dtype=t.bool)\n",
    "a     # complex not working in tensor type"
   ]
  },
  {
   "cell_type": "code",
   "execution_count": null,
   "metadata": {
    "colab": {
     "base_uri": "https://localhost:8080/",
     "height": 85
    },
    "colab_type": "code",
    "executionInfo": {
     "elapsed": 726,
     "status": "ok",
     "timestamp": 1572617202106,
     "user": {
      "displayName": "anil patidar",
      "photoUrl": "https://lh3.googleusercontent.com/a-/AAuE7mBOpNM26lFln0sQCl4yOtCwHeImpsg3tBaiaNYFrkw=s64",
      "userId": "09103336182194663163"
     },
     "user_tz": -330
    },
    "id": "QW6i4eF2SSJ-",
    "outputId": "a20f2962-361f-4204-c38f-4c55638c9e15"
   },
   "outputs": [
    {
     "data": {
      "text/plain": [
       "tensor([[ 0,  1,  2],\n",
       "        [ 3,  4,  5],\n",
       "        [ 6,  7,  8],\n",
       "        [ 9, 10, 11]])"
      ]
     },
     "execution_count": 150,
     "metadata": {
      "tags": []
     },
     "output_type": "execute_result"
    }
   ],
   "source": [
    "b=t.arange(12).reshape(4,3)\n",
    "b"
   ]
  },
  {
   "cell_type": "code",
   "execution_count": null,
   "metadata": {
    "colab": {
     "base_uri": "https://localhost:8080/",
     "height": 51
    },
    "colab_type": "code",
    "executionInfo": {
     "elapsed": 984,
     "status": "ok",
     "timestamp": 1572617284998,
     "user": {
      "displayName": "anil patidar",
      "photoUrl": "https://lh3.googleusercontent.com/a-/AAuE7mBOpNM26lFln0sQCl4yOtCwHeImpsg3tBaiaNYFrkw=s64",
      "userId": "09103336182194663163"
     },
     "user_tz": -330
    },
    "id": "G7L3llG_SiW-",
    "outputId": "17727171-b771-4bdc-87d9-484c38e54569"
   },
   "outputs": [
    {
     "data": {
      "text/plain": [
       "tensor([[1, 2],\n",
       "        [3, 4]])"
      ]
     },
     "execution_count": 153,
     "metadata": {
      "tags": []
     },
     "output_type": "execute_result"
    }
   ],
   "source": [
    "c=t.tensor(((1,2),(3,4)))\n",
    "c"
   ]
  },
  {
   "cell_type": "code",
   "execution_count": null,
   "metadata": {
    "colab": {
     "base_uri": "https://localhost:8080/",
     "height": 34
    },
    "colab_type": "code",
    "executionInfo": {
     "elapsed": 733,
     "status": "ok",
     "timestamp": 1572617297700,
     "user": {
      "displayName": "anil patidar",
      "photoUrl": "https://lh3.googleusercontent.com/a-/AAuE7mBOpNM26lFln0sQCl4yOtCwHeImpsg3tBaiaNYFrkw=s64",
      "userId": "09103336182194663163"
     },
     "user_tz": -330
    },
    "id": "G8XfA4THS2ih",
    "outputId": "e8db4206-ae23-4951-b455-c4c330041282"
   },
   "outputs": [
    {
     "data": {
      "text/plain": [
       "torch.Size([2, 2])"
      ]
     },
     "execution_count": 155,
     "metadata": {
      "tags": []
     },
     "output_type": "execute_result"
    }
   ],
   "source": [
    "c.shape"
   ]
  },
  {
   "cell_type": "code",
   "execution_count": null,
   "metadata": {
    "colab": {
     "base_uri": "https://localhost:8080/",
     "height": 34
    },
    "colab_type": "code",
    "executionInfo": {
     "elapsed": 1035,
     "status": "ok",
     "timestamp": 1572617303112,
     "user": {
      "displayName": "anil patidar",
      "photoUrl": "https://lh3.googleusercontent.com/a-/AAuE7mBOpNM26lFln0sQCl4yOtCwHeImpsg3tBaiaNYFrkw=s64",
      "userId": "09103336182194663163"
     },
     "user_tz": -330
    },
    "id": "k5h_O8kXS5tk",
    "outputId": "e1d25deb-1d36-46eb-b7af-3d628cabbeea"
   },
   "outputs": [
    {
     "data": {
      "text/plain": [
       "torch.Size([2, 2])"
      ]
     },
     "execution_count": 156,
     "metadata": {
      "tags": []
     },
     "output_type": "execute_result"
    }
   ],
   "source": [
    "c.size()"
   ]
  },
  {
   "cell_type": "markdown",
   "metadata": {
    "colab_type": "text",
    "id": "ssBhohBUS9di"
   },
   "source": [
    "# 3D Tensor"
   ]
  },
  {
   "cell_type": "code",
   "execution_count": null,
   "metadata": {
    "colab": {
     "base_uri": "https://localhost:8080/",
     "height": 51
    },
    "colab_type": "code",
    "executionInfo": {
     "elapsed": 977,
     "status": "ok",
     "timestamp": 1572617373046,
     "user": {
      "displayName": "anil patidar",
      "photoUrl": "https://lh3.googleusercontent.com/a-/AAuE7mBOpNM26lFln0sQCl4yOtCwHeImpsg3tBaiaNYFrkw=s64",
      "userId": "09103336182194663163"
     },
     "user_tz": -330
    },
    "id": "7X_oqVDtS7GV",
    "outputId": "5cd9146c-bcd2-4db6-f559-09dfaed237d9"
   },
   "outputs": [
    {
     "data": {
      "text/plain": [
       "tensor([[[1, 2],\n",
       "         [3, 4]]])"
      ]
     },
     "execution_count": 157,
     "metadata": {
      "tags": []
     },
     "output_type": "execute_result"
    }
   ],
   "source": [
    "a=t.tensor([[[1,2],[3,4]]])\n",
    "a"
   ]
  },
  {
   "cell_type": "code",
   "execution_count": null,
   "metadata": {
    "colab": {
     "base_uri": "https://localhost:8080/",
     "height": 51
    },
    "colab_type": "code",
    "executionInfo": {
     "elapsed": 949,
     "status": "ok",
     "timestamp": 1572617405345,
     "user": {
      "displayName": "anil patidar",
      "photoUrl": "https://lh3.googleusercontent.com/a-/AAuE7mBOpNM26lFln0sQCl4yOtCwHeImpsg3tBaiaNYFrkw=s64",
      "userId": "09103336182194663163"
     },
     "user_tz": -330
    },
    "id": "2mSUtyL0TMAn",
    "outputId": "f96ca948-158b-40f2-a4aa-043b7559c72c"
   },
   "outputs": [
    {
     "data": {
      "text/plain": [
       "tensor([[[1, 2],\n",
       "         [3, 4]]])"
      ]
     },
     "execution_count": 159,
     "metadata": {
      "tags": []
     },
     "output_type": "execute_result"
    }
   ],
   "source": [
    "b=t.tensor([((1,2),(3,4))])\n",
    "b"
   ]
  },
  {
   "cell_type": "code",
   "execution_count": null,
   "metadata": {
    "colab": {
     "base_uri": "https://localhost:8080/",
     "height": 34
    },
    "colab_type": "code",
    "executionInfo": {
     "elapsed": 959,
     "status": "ok",
     "timestamp": 1572617470866,
     "user": {
      "displayName": "anil patidar",
      "photoUrl": "https://lh3.googleusercontent.com/a-/AAuE7mBOpNM26lFln0sQCl4yOtCwHeImpsg3tBaiaNYFrkw=s64",
      "userId": "09103336182194663163"
     },
     "user_tz": -330
    },
    "id": "7HIZffXUTevr",
    "outputId": "a0f8aca0-e505-4505-8570-03aba529e1f7"
   },
   "outputs": [
    {
     "data": {
      "text/plain": [
       "torch.Size([1, 2, 3])"
      ]
     },
     "execution_count": 164,
     "metadata": {
      "tags": []
     },
     "output_type": "execute_result"
    }
   ],
   "source": [
    "c.size()"
   ]
  },
  {
   "cell_type": "code",
   "execution_count": null,
   "metadata": {
    "colab": {
     "base_uri": "https://localhost:8080/",
     "height": 51
    },
    "colab_type": "code",
    "executionInfo": {
     "elapsed": 724,
     "status": "ok",
     "timestamp": 1572617449435,
     "user": {
      "displayName": "anil patidar",
      "photoUrl": "https://lh3.googleusercontent.com/a-/AAuE7mBOpNM26lFln0sQCl4yOtCwHeImpsg3tBaiaNYFrkw=s64",
      "userId": "09103336182194663163"
     },
     "user_tz": -330
    },
    "id": "Acu5GZaeTT69",
    "outputId": "8a5a35eb-85e2-4683-feed-8b7025aa1b1e"
   },
   "outputs": [
    {
     "data": {
      "text/plain": [
       "tensor([[[1, 2, 3],\n",
       "         [4, 5, 6]]])"
      ]
     },
     "execution_count": 161,
     "metadata": {
      "tags": []
     },
     "output_type": "execute_result"
    }
   ],
   "source": [
    "c=t.tensor([[(1,2,3),(4,5,6)]])\n",
    "c"
   ]
  },
  {
   "cell_type": "code",
   "execution_count": null,
   "metadata": {
    "colab": {
     "base_uri": "https://localhost:8080/",
     "height": 51
    },
    "colab_type": "code",
    "executionInfo": {
     "elapsed": 2501,
     "status": "ok",
     "timestamp": 1572617713268,
     "user": {
      "displayName": "anil patidar",
      "photoUrl": "https://lh3.googleusercontent.com/a-/AAuE7mBOpNM26lFln0sQCl4yOtCwHeImpsg3tBaiaNYFrkw=s64",
      "userId": "09103336182194663163"
     },
     "user_tz": -330
    },
    "id": "Wce1Z0PiULp3",
    "outputId": "5d94742b-c299-41bd-fc9c-ae8cc57c3949"
   },
   "outputs": [
    {
     "data": {
      "text/plain": [
       "tensor([[1, 2],\n",
       "        [3, 4]])"
      ]
     },
     "execution_count": 175,
     "metadata": {
      "tags": []
     },
     "output_type": "execute_result"
    }
   ],
   "source": [
    "# tried for 3D but got 2D array\n",
    "d=t.tensor((([[1,2],[3,4]])))\n",
    "d"
   ]
  },
  {
   "cell_type": "code",
   "execution_count": null,
   "metadata": {
    "colab": {
     "base_uri": "https://localhost:8080/",
     "height": 34
    },
    "colab_type": "code",
    "executionInfo": {
     "elapsed": 2472,
     "status": "ok",
     "timestamp": 1572617713270,
     "user": {
      "displayName": "anil patidar",
      "photoUrl": "https://lh3.googleusercontent.com/a-/AAuE7mBOpNM26lFln0sQCl4yOtCwHeImpsg3tBaiaNYFrkw=s64",
      "userId": "09103336182194663163"
     },
     "user_tz": -330
    },
    "id": "drfHZQGOTiYJ",
    "outputId": "0cd52917-42c7-4fc1-fe04-329269bd8b07"
   },
   "outputs": [
    {
     "data": {
      "text/plain": [
       "3"
      ]
     },
     "execution_count": 176,
     "metadata": {
      "tags": []
     },
     "output_type": "execute_result"
    }
   ],
   "source": [
    "c.ndim"
   ]
  },
  {
   "cell_type": "code",
   "execution_count": null,
   "metadata": {
    "colab": {
     "base_uri": "https://localhost:8080/",
     "height": 34
    },
    "colab_type": "code",
    "executionInfo": {
     "elapsed": 2443,
     "status": "ok",
     "timestamp": 1572617713271,
     "user": {
      "displayName": "anil patidar",
      "photoUrl": "https://lh3.googleusercontent.com/a-/AAuE7mBOpNM26lFln0sQCl4yOtCwHeImpsg3tBaiaNYFrkw=s64",
      "userId": "09103336182194663163"
     },
     "user_tz": -330
    },
    "id": "ng0ai9MUTm9B",
    "outputId": "0882b54c-134d-4439-e177-7c73284823c4"
   },
   "outputs": [
    {
     "data": {
      "text/plain": [
       "torch.Size([1, 2, 3])"
      ]
     },
     "execution_count": 177,
     "metadata": {
      "tags": []
     },
     "output_type": "execute_result"
    }
   ],
   "source": [
    "c.shape"
   ]
  },
  {
   "cell_type": "markdown",
   "metadata": {
    "colab_type": "text",
    "id": "x_gCqpqbTsQU"
   },
   "source": [
    "# Transposition"
   ]
  },
  {
   "cell_type": "code",
   "execution_count": null,
   "metadata": {
    "colab": {
     "base_uri": "https://localhost:8080/",
     "height": 34
    },
    "colab_type": "code",
    "executionInfo": {
     "elapsed": 957,
     "status": "ok",
     "timestamp": 1572639684742,
     "user": {
      "displayName": "anil patidar",
      "photoUrl": "https://lh3.googleusercontent.com/a-/AAuE7mBOpNM26lFln0sQCl4yOtCwHeImpsg3tBaiaNYFrkw=s64",
      "userId": "09103336182194663163"
     },
     "user_tz": -330
    },
    "id": "3uSzZcR3TqY7",
    "outputId": "3eb15f59-35ab-48ca-9eb2-197492dcf9f1"
   },
   "outputs": [
    {
     "data": {
      "text/plain": [
       "tensor([1, 2, 3])"
      ]
     },
     "execution_count": 7,
     "metadata": {
      "tags": []
     },
     "output_type": "execute_result"
    }
   ],
   "source": [
    "a=t.tensor([1,2,3])\n",
    "t.transpose(a,0,0)  # not possible bcoz they have only one axis"
   ]
  },
  {
   "cell_type": "code",
   "execution_count": 11,
   "metadata": {
    "colab": {
     "base_uri": "https://localhost:8080/",
     "height": 119
    },
    "colab_type": "code",
    "executionInfo": {
     "elapsed": 970,
     "status": "ok",
     "timestamp": 1572639763905,
     "user": {
      "displayName": "anil patidar",
      "photoUrl": "https://lh3.googleusercontent.com/a-/AAuE7mBOpNM26lFln0sQCl4yOtCwHeImpsg3tBaiaNYFrkw=s64",
      "userId": "09103336182194663163"
     },
     "user_tz": -330
    },
    "id": "IzG1Kp8wUe2N",
    "outputId": "57e9b666-fc3c-4422-f7e5-25cbb0ae9ed9"
   },
   "outputs": [
    {
     "name": "stdout",
     "output_type": "stream",
     "text": [
      "<built-in method transpose of Tensor object at 0x000002B655F9BA98>\n",
      "tensor([[1, 3, 5],\n",
      "        [2, 4, 6]]) \n",
      "\n"
     ]
    },
    {
     "data": {
      "text/plain": [
       "tensor([[1, 3, 5],\n",
       "        [2, 4, 6]])"
      ]
     },
     "execution_count": 11,
     "metadata": {},
     "output_type": "execute_result"
    }
   ],
   "source": [
    "b=t.tensor([[1,2],[3,4],[5,6]])\n",
    "print(b.transpose)\n",
    "print(t.transpose(b,1,0),\"\\n\")  # both axis not equal so no transpose\n",
    "b.T"
   ]
  },
  {
   "cell_type": "code",
   "execution_count": null,
   "metadata": {
    "colab": {
     "base_uri": "https://localhost:8080/",
     "height": 51
    },
    "colab_type": "code",
    "executionInfo": {
     "elapsed": 1986,
     "status": "ok",
     "timestamp": 1572639643228,
     "user": {
      "displayName": "anil patidar",
      "photoUrl": "https://lh3.googleusercontent.com/a-/AAuE7mBOpNM26lFln0sQCl4yOtCwHeImpsg3tBaiaNYFrkw=s64",
      "userId": "09103336182194663163"
     },
     "user_tz": -330
    },
    "id": "iWfhnetoVGR9",
    "outputId": "8bb301c5-f864-4f7c-a3d5-74200d9b4a58"
   },
   "outputs": [
    {
     "data": {
      "text/plain": [
       "tensor([[1, 3],\n",
       "        [2, 4]])"
      ]
     },
     "execution_count": 4,
     "metadata": {
      "tags": []
     },
     "output_type": "execute_result"
    }
   ],
   "source": [
    "a=t.tensor([[1,2],[3,4]])\n",
    "t.transpose(a,0,1)         # axis=0 replace with axis=1"
   ]
  },
  {
   "cell_type": "code",
   "execution_count": null,
   "metadata": {
    "colab": {
     "base_uri": "https://localhost:8080/",
     "height": 51
    },
    "colab_type": "code",
    "executionInfo": {
     "elapsed": 2164,
     "status": "ok",
     "timestamp": 1572639654183,
     "user": {
      "displayName": "anil patidar",
      "photoUrl": "https://lh3.googleusercontent.com/a-/AAuE7mBOpNM26lFln0sQCl4yOtCwHeImpsg3tBaiaNYFrkw=s64",
      "userId": "09103336182194663163"
     },
     "user_tz": -330
    },
    "id": "NB034IQ9n87R",
    "outputId": "24725573-9bf4-4fe8-9305-1ce8be0f1912"
   },
   "outputs": [
    {
     "data": {
      "text/plain": [
       "tensor([[1, 3],\n",
       "        [2, 4]])"
      ]
     },
     "execution_count": 5,
     "metadata": {
      "tags": []
     },
     "output_type": "execute_result"
    }
   ],
   "source": [
    "a=t.tensor([[1,2],[3,4]])\n",
    "t.transpose(a,1,0)"
   ]
  }
 ],
 "metadata": {
  "colab": {
   "collapsed_sections": [
    "abEwvi3nGhbY",
    "8PpxU2RDGhbn",
    "UpUY85uwGhb4",
    "Psnj76jEGhcB",
    "jJfQW1IAGhcs",
    "p_HrZybkGhc7",
    "qOGOFFn6GhdK",
    "Xv5IJ2-zGhdj",
    "67BmJ6eIGhdz",
    "cxC7eDebGheA",
    "VHqBG_LuGheG"
   ],
   "name": "01 Torch Basics.ipynb",
   "provenance": []
  },
  "kernelspec": {
   "display_name": "Python 3",
   "language": "python",
   "name": "python3"
  },
  "language_info": {
   "codemirror_mode": {
    "name": "ipython",
    "version": 3
   },
   "file_extension": ".py",
   "mimetype": "text/x-python",
   "name": "python",
   "nbconvert_exporter": "python",
   "pygments_lexer": "ipython3",
   "version": "3.6.8"
  }
 },
 "nbformat": 4,
 "nbformat_minor": 4
}
